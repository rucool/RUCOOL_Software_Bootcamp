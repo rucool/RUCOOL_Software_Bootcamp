{
 "cells": [
  {
   "cell_type": "markdown",
   "metadata": {},
   "source": [
    "# DOPPIO model data\n",
    "\n",
    "DOPPIO is a regional model (ROMS) run here at rutgers by John Wilkin's group to forecast the state of the Gulf of Maine. \n",
    "\n",
    "This one is a little bit complicated, but we can make some rough plots. \n",
    "\n",
    "As usual, the data is available on a thredds server:\n",
    "\n",
    "http://tds.marine.rutgers.edu/thredds/dodsC/roms/doppio/2017_da/avg/Averages_Best"
   ]
  },
  {
   "cell_type": "code",
   "execution_count": null,
   "metadata": {},
   "outputs": [],
   "source": [
    "# import xarray, matplotlib, do the inline thing\n",
    "\n"
   ]
  },
  {
   "cell_type": "markdown",
   "metadata": {},
   "source": [
    "# read in the data\n",
    "\n",
    "available at:\n",
    "```python\n",
    "url = 'http://tds.marine.rutgers.edu/thredds/dodsC/roms/doppio/2017_da/avg/Averages_Best'\n",
    "```\n"
   ]
  },
  {
   "cell_type": "code",
   "execution_count": null,
   "metadata": {},
   "outputs": [],
   "source": []
  },
  {
   "cell_type": "markdown",
   "metadata": {},
   "source": [
    "# WHOA crazy stuff. \n",
    "\n",
    "Models are crazy, they are solved and represented on complex grids with strange names.\n",
    "\n",
    "Let's not worry about the details here, but we can still make some plots. \n",
    "\n",
    "This data is very big, so we need to make sure we take a subset. \n",
    "\n",
    "Let's grab data from July 21, 2019\n",
    "\n",
    "The other `.sel()` I want to do is to take `s_rho=0, method='nearest'` which takes the \"surface\" level of the model so we can plot it. Don't worry about these details too much, I just want to show you that we can access even really complicated operational model data with our fairly simple tools. \n",
    "\n",
    "fill in the blanks:\n",
    "\n",
    "```python\n",
    "subset = ds.___( ___ = '2019-07-21', s_rho =0, ___ = 'nearest')\n",
    "\n",
    "subset\n",
    "```\n"
   ]
  },
  {
   "cell_type": "code",
   "execution_count": null,
   "metadata": {},
   "outputs": [],
   "source": []
  },
  {
   "cell_type": "markdown",
   "metadata": {},
   "source": [
    "# plot the model salinity\n",
    "\n",
    "let's plot the models salinity using the built-in xarray plotting. In this case I want to explicitly tell xarrays's `.plot()` that I want the x and y axes of the plot to be `lon_rho` and `lat_rho`, which we do by adding a `x=` and `y=` argument in `.plot()`. I also want to set the color limits of the plot, which we can do with `vmin=__, vmax=__` as more arguments in `.plot()`.\n",
    " \n",
    " \n",
    "putting it all together our new type of plot code will look like:\n",
    "\n",
    "```python\n",
    "subset.___.plot( x='lon_rho', y='lat_rho', vmin=28, vmax=35)\n",
    "\n",
    "```\n",
    " \n",
    " fill in the blanks to make it plot the salinity\n"
   ]
  },
  {
   "cell_type": "code",
   "execution_count": null,
   "metadata": {},
   "outputs": [],
   "source": []
  },
  {
   "cell_type": "markdown",
   "metadata": {},
   "source": [
    "# plot the model temperature\n",
    "\n",
    "using the plotting code you just filled in, modify it to create a plot of temperature. Be sure to change the `vmin, vmax` limits to a range that makes sense for temperature. \n",
    "\n",
    "try changing the colormap by adding the argument `cmap = 'RdYlBu_r'` to `.plot()`"
   ]
  },
  {
   "cell_type": "code",
   "execution_count": null,
   "metadata": {},
   "outputs": [],
   "source": [
    "\n"
   ]
  },
  {
   "cell_type": "code",
   "execution_count": null,
   "metadata": {},
   "outputs": [],
   "source": []
  }
 ],
 "metadata": {
  "kernelspec": {
   "display_name": "Python 3",
   "language": "python",
   "name": "python3"
  },
  "language_info": {
   "codemirror_mode": {
    "name": "ipython",
    "version": 3
   },
   "file_extension": ".py",
   "mimetype": "text/x-python",
   "name": "python",
   "nbconvert_exporter": "python",
   "pygments_lexer": "ipython3",
   "version": "3.8.11"
  }
 },
 "nbformat": 4,
 "nbformat_minor": 4
}

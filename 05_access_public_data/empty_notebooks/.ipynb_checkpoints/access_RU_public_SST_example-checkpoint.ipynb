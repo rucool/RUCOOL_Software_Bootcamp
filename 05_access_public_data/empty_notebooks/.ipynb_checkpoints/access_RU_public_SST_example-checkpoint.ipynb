{
 "cells": [
  {
   "cell_type": "markdown",
   "metadata": {},
   "source": [
    "# Load the Rutgers coldest pixel data\n",
    "\n",
    "This notebook gives example code for accessing, reading, and plotting Sea Surface Temperature data that Rutgers produces (the coldest pixel product). \n",
    "\n",
    "DMCS provides this data through what is called a [THREDDS server](https://www.unidata.ucar.edu/software/tds/current/), which is a common way that geophysical datasets and made accessable to the public over the web.\n",
    "\n",
    "Luckily for us, we can use Xarray to directly access data from a THREDDS server and work with it in python. \n",
    "\n",
    "This is the THREDDS server we will be using: http://tds.maracoos.org/thredds/ , it's how MARACOOS (Mid-Atlantic Regional Association Coastal Ocean Observing System) distributes their data. Open up the link and you can click around and see the different data products. \n",
    "\n",
    "Let's plot the data contained in `Rutgers Coldest-Pixel of Daylight AVHRR Passes/`\n",
    "\n",
    "If we navigate down we will see that the data is located at a particular url:\n",
    "\n",
    "\n",
    "http://tds.maracoos.org/thredds/dodsC/Rutgers-Coldest-Pixel-Agg.nc\n",
    "\n",
    "We will see that we can just use this with the `xr.open_dataset()` function to access the data. Information about xarrays Data Access Protocol is here: http://xarray.pydata.org/en/stable/io.html#opendap\n",
    "\n",
    "This is a general pattern, you can use this type of system for a lot of public data you might want to access\n"
   ]
  },
  {
   "cell_type": "code",
   "execution_count": null,
   "metadata": {},
   "outputs": [],
   "source": [
    "# import statements: xarray, matplotlib, matplotlib inline\n",
    "\n"
   ]
  },
  {
   "cell_type": "markdown",
   "metadata": {},
   "source": [
    "# load the data \n",
    "use the URL of the thredds data as the argument in `xr.open_dataset()`\n",
    "\n",
    "the url is \n",
    "```python\n",
    "data_url = 'http://tds.maracoos.org/thredds/dodsC/Rutgers-Coldest-Pixel-Agg.nc'\n",
    "\n",
    "ds = xr.___(___)\n",
    "\n",
    "ds\n",
    "\n",
    "```\n"
   ]
  },
  {
   "cell_type": "code",
   "execution_count": null,
   "metadata": {},
   "outputs": [],
   "source": []
  },
  {
   "cell_type": "markdown",
   "metadata": {},
   "source": [
    "# `xr.open_dataset()` just reads the metadata\n",
    "\n",
    "These public datasets can be really huge. So the default behavor is that until you try to calculate something, or plot it, xarray often just download the metadata, but not the data itself. We can ask just for a subset of the big dataset if we only need a little bit, so we dont run out of data. \n",
    "\n",
    "Once you do something with the data (plot it, make some calculation) at *that point* xarray actually downloads the data. This lets you slice a small section off (using `.sel()`) before you do caclulations and plots to reduce the size of your download. \n",
    "\n",
    "For now, lets plot the whole SST dataset on one day using built-in xarray plotting. Fill in the blanks below:\n",
    "\n",
    "```python\n",
    "ds.___.sel( ___='04-01-2019', method=___ ).___()\n",
    "```\n",
    "\n",
    "\n"
   ]
  },
  {
   "cell_type": "code",
   "execution_count": null,
   "metadata": {},
   "outputs": [],
   "source": []
  },
  {
   "cell_type": "markdown",
   "metadata": {},
   "source": [
    "# grab a subset\n",
    "It's a big datset, and actually it will take us a really long time to make calculations with it. We can help this a little by just asking for a subset of the data using `.sel( dim=slice() )`\n",
    "\n",
    "subset the data to get the New Jersey coast of the mid-atlantic bight:\n",
    "\n",
    "```python\n",
    "CP_mab_nj = ds.___( ___=___(38,41), ___=slice(-76,-71))\n",
    "```\n",
    "\n"
   ]
  },
  {
   "cell_type": "code",
   "execution_count": null,
   "metadata": {},
   "outputs": [],
   "source": [
    "\n",
    "\n"
   ]
  },
  {
   "cell_type": "markdown",
   "metadata": {},
   "source": [
    "# plot the subset on a few days\n",
    "\n",
    "There were some nice clear days in the past two weeks where we saw coastal upwelling, lets plot those days, which were July 21, 2019 and July 25, 2019 (also July 31, but right now this data isn't available yet)\n",
    "\n",
    "```python\n",
    "CP_mab_nj.___.___(___='07-21-2019', ___='nearest' ).plot()\n",
    "\n",
    "```\n",
    "\n"
   ]
  },
  {
   "cell_type": "code",
   "execution_count": null,
   "metadata": {},
   "outputs": [],
   "source": [
    "\n"
   ]
  },
  {
   "cell_type": "code",
   "execution_count": null,
   "metadata": {},
   "outputs": [],
   "source": []
  }
 ],
 "metadata": {
  "kernelspec": {
   "display_name": "Python 3",
   "language": "python",
   "name": "python3"
  },
  "language_info": {
   "codemirror_mode": {
    "name": "ipython",
    "version": 3
   },
   "file_extension": ".py",
   "mimetype": "text/x-python",
   "name": "python",
   "nbconvert_exporter": "python",
   "pygments_lexer": "ipython3",
   "version": "3.8.11"
  }
 },
 "nbformat": 4,
 "nbformat_minor": 4
}

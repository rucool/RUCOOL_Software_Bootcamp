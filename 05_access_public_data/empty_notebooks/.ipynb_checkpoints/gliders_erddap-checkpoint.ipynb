{
 "cells": [
  {
   "cell_type": "code",
   "execution_count": 12,
   "id": "3546ed6c-981f-4051-84ad-723b0af4e2e2",
   "metadata": {},
   "outputs": [],
   "source": [
    "from erddapy import ERDDAP\n",
    "import matplotlib.pyplot as plt\n",
    "import matplotlib.dates as mdates\n",
    "import cmocean\n",
    "import pandas as pd\n",
    "import numpy as np"
   ]
  },
  {
   "cell_type": "code",
   "execution_count": 23,
   "id": "2bf92717-2160-4996-82de-a9f1cdaa1b13",
   "metadata": {},
   "outputs": [],
   "source": [
    "lon_lim = [-80,-75.0]\n",
    "lat_lim = [32.5,35.5]\n",
    "\n",
    "# date limits\n",
    "date_ini = '2017-01-01T00:00:00Z'\n",
    "date_end = '2021-12-31T00:00:00Z'\n",
    "\n",
    "url_erddap = \"https://data.ioos.us/gliders/erddap\"\n",
    "\n",
    "kwargs = dict(date_ini=date_ini,date_end=date_end)\n",
    "\n",
    "# Find time window of interest    \n",
    "constraints = {\n",
    "        'time>=': date_ini,\n",
    "        'time<=': date_end,\n",
    "        'latitude>=': lat_lim[0],\n",
    "        'latitude<=': lat_lim[1],\n",
    "        'longitude>=': lon_lim[0],\n",
    "        'longitude<=': lon_lim[1],\n",
    "        }\n",
    "    \n",
    "variables = [\n",
    "        'depth',\n",
    "        'latitude',\n",
    "        'longitude',\n",
    "        'time'\n",
    "        ]\n",
    "\n",
    "e = ERDDAP(\n",
    "        server=url_erddap,\n",
    "        protocol='tabledap',\n",
    "        response='nc'\n",
    "        )"
   ]
  },
  {
   "cell_type": "code",
   "execution_count": 38,
   "id": "b3e23f2a-1e94-4a26-bbe5-55cce1220a41",
   "metadata": {},
   "outputs": [],
   "source": [
    "e.constraints = constraints\n",
    "e.variables = variables\n",
    "\n",
    "did = pd.read_csv(e.get_search_url(response=\"csv\"))\n",
    "test=did[\"Dataset ID\"]"
   ]
  },
  {
   "cell_type": "code",
   "execution_count": 41,
   "id": "6ab9b1b4-7b5c-4fbd-9f8e-869ff83e9441",
   "metadata": {},
   "outputs": [],
   "source": [
    "e.dataset_id = test[1]"
   ]
  },
  {
   "cell_type": "code",
   "execution_count": 43,
   "id": "ebf0a06f-5e93-4200-9cbc-bb18f6f24c60",
   "metadata": {},
   "outputs": [],
   "source": [
    "# df = e.to_pandas(index_col='time (UTC)',parse_dates=True)"
   ]
  },
  {
   "cell_type": "code",
   "execution_count": null,
   "id": "2fd17c85-f6d5-4392-ad3d-23f803cc0184",
   "metadata": {},
   "outputs": [],
   "source": []
  }
 ],
 "metadata": {
  "kernelspec": {
   "display_name": "Python 3 (ipykernel)",
   "language": "python",
   "name": "python3"
  },
  "language_info": {
   "codemirror_mode": {
    "name": "ipython",
    "version": 3
   },
   "file_extension": ".py",
   "mimetype": "text/x-python",
   "name": "python",
   "nbconvert_exporter": "python",
   "pygments_lexer": "ipython3",
   "version": "3.10.9"
  }
 },
 "nbformat": 4,
 "nbformat_minor": 5
}

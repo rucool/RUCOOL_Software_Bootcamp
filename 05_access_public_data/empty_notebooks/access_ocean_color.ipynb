{
 "cells": [
  {
   "cell_type": "markdown",
   "metadata": {},
   "source": [
    "# NASA ocean color data \n",
    "\n",
    "\n",
    "This notebook demonstrates how we can access Ocean Color data from NASA.\n",
    "\n",
    "\n",
    "The main repository for NASAs ocean color data is: https://oceandata.sci.gsfc.nasa.gov/opendap/\n",
    "\n",
    "We will look at data from the MODIS-Aqua (MODIS-A) satellite, and in particular we will look at the level 3 product, which is data that has gone through the highest level of processing and nicely gridded.\n",
    "\n",
    "\n",
    "NASA organizes data by year and year day. You can see this structure by clicking through the OpenDAP server. The file used in this example contains the mapped chlorophyll-a data for July 28 (year day 210), 2019.\n",
    "\n",
    "\n",
    "### credit:\n",
    "this lession is based on one from Tom Connolly: https://github.com/tompc35/oceanography-notebooks/blob/master/ocean_color_netcdf.ipynb"
   ]
  },
  {
   "cell_type": "code",
   "execution_count": 2,
   "metadata": {},
   "outputs": [],
   "source": [
    "# import statements: get matplotlib, numpy, xarray, and matplotlib inline\n"
   ]
  },
  {
   "cell_type": "markdown",
   "metadata": {},
   "source": [
    "# use `xr.open_dataset()` to access the data\n",
    "\n",
    "the data for yearday 210 of 2019 is located at:\n",
    "```python\n",
    "url = 'https://oceandata.sci.gsfc.nasa.gov:443/opendap/MODISA/L3SMI/2019/210/A2019210.L3m_DAY_CHL_chlor_a_4km.nc'\n",
    "\n",
    "data = xr.___(___)\n",
    "\n",
    "```\n",
    "\n",
    "load the data and look at the output"
   ]
  },
  {
   "cell_type": "code",
   "execution_count": 1,
   "metadata": {},
   "outputs": [],
   "source": [
    "url = 'https://oceandata.sci.gsfc.nasa.gov:443/opendap/MODISA/L3SMI/2019/210/A2019210.L3m_DAY_CHL_chlor_a_4km.nc'\n"
   ]
  },
  {
   "cell_type": "markdown",
   "metadata": {},
   "source": [
    "# Subset the data\n",
    "\n",
    "Again, let's just grab the mid-atlantic bight.\n",
    "\n",
    "Note, that for some reason I don't understand, the `lat` `coords` are listed from high to low, so when you slice, you need to reverse the order, i.e. use `sel( lat=slice(41, 38))` *not* `sel( lat=slice( 38, 41)`. This is a mystery.\n",
    "\n",
    "fill in the blanks to get a subset of the data that covers the MAB (the lat boundaries at 38 to 41 degrees, and lon boundaries are -76 to -71):\n",
    "\n",
    "```python\n",
    "data_mab_nj = data.___( lat = ___, lon = ___)\n",
    "```"
   ]
  },
  {
   "cell_type": "code",
   "execution_count": null,
   "metadata": {},
   "outputs": [],
   "source": []
  },
  {
   "cell_type": "markdown",
   "metadata": {},
   "source": [
    "# plot the chlorophyll a\n",
    "\n",
    "for the mid atlantic bight subset using the built-in xarray plotting routine. i.e. fill in the blanks, and remember we want to just plot the variable `chlor_a`:\n",
    "```python\n",
    "data_mab_nj.___.___()\n",
    "```\n",
    "\n"
   ]
  },
  {
   "cell_type": "code",
   "execution_count": null,
   "metadata": {},
   "outputs": [],
   "source": []
  },
  {
   "cell_type": "markdown",
   "metadata": {},
   "source": [
    "# Chla should be plotted on a log scale\n",
    "\n",
    "Let's make the same plot with matplotlib, and use `np.log10()` to plot the data on a logarythmic scale:\n",
    "\n",
    "```python\n",
    "plt.pcolor( data_mab_nj.___, data_mab_nj.___, np.log10(data_mab_nj.___))\n",
    "# add a colorbar below:\n",
    "plt.___\n",
    "\n",
    "```\n"
   ]
  },
  {
   "cell_type": "code",
   "execution_count": null,
   "metadata": {},
   "outputs": [],
   "source": []
  },
  {
   "cell_type": "code",
   "execution_count": null,
   "metadata": {},
   "outputs": [],
   "source": []
  },
  {
   "cell_type": "code",
   "execution_count": null,
   "metadata": {},
   "outputs": [],
   "source": []
  }
 ],
 "metadata": {
  "kernelspec": {
   "display_name": "Python 3",
   "language": "python",
   "name": "python3"
  },
  "language_info": {
   "codemirror_mode": {
    "name": "ipython",
    "version": 3
   },
   "file_extension": ".py",
   "mimetype": "text/x-python",
   "name": "python",
   "nbconvert_exporter": "python",
   "pygments_lexer": "ipython3",
   "version": "3.8.11"
  }
 },
 "nbformat": 4,
 "nbformat_minor": 4
}

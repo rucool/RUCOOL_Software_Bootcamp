{
 "cells": [
  {
   "cell_type": "markdown",
   "metadata": {},
   "source": [
    "# Surface currents from the OSCAR model \n",
    "\n",
    "Let's access and plot global surface currents from OSCAR: https://www.esr.org/research/oscar/oscar-surface-currents/\n",
    "\n",
    "according to Earth and Space Research, who create this data product:\n",
    "\n",
    "\"The OSCAR product is a direct computation of global surface currents using satellite sea surface height, wind, and temperature. Currents are calculated using a quasi-steady geostrophic model together with an eddy viscosity based wind-driven ageostrophic component and a thermal wind adjustment. The model calculates a surface current averaged over the top 30m of the upper ocean.\"\n"
   ]
  },
  {
   "cell_type": "code",
   "execution_count": 1,
   "metadata": {},
   "outputs": [],
   "source": [
    "# import xarray, matplotlib, numpy, and make matplotlib inline\n",
    "import xarray as xr\n",
    "import matplotlib.pyplot as plt\n",
    "import numpy as np\n",
    "\n",
    "%matplotlib inline"
   ]
  },
  {
   "cell_type": "markdown",
   "metadata": {},
   "source": [
    "The data is available from the NASA Physical Oceanography Distributed Active Archive Center: https://podaac.jpl.nasa.gov/\n",
    "\n",
    "We can find it at \n",
    "url = 'https://podaac-opendap.jpl.nasa.gov:443/opendap/allData/oscar/preview/L4/oscar_third_deg/oscar_vel2019.nc.gz'\n",
    "\n",
    "load the data useing `xr.open_dataset()` into a dataarray called `ds`"
   ]
  },
  {
   "cell_type": "code",
   "execution_count": 1,
   "metadata": {},
   "outputs": [
    {
     "ename": "NameError",
     "evalue": "name 'xr' is not defined",
     "output_type": "error",
     "traceback": [
      "\u001b[0;31m---------------------------------------------------------------------------\u001b[0m",
      "\u001b[0;31mNameError\u001b[0m                                 Traceback (most recent call last)",
      "Cell \u001b[0;32mIn[1], line 3\u001b[0m\n\u001b[1;32m      1\u001b[0m url \u001b[38;5;241m=\u001b[39m \u001b[38;5;124m'\u001b[39m\u001b[38;5;124mhttps://podaac-opendap.jpl.nasa.gov:443/opendap/allData/oscar/preview/L4/oscar_third_deg/oscar_vel2019.nc.gz\u001b[39m\u001b[38;5;124m'\u001b[39m\n\u001b[0;32m----> 3\u001b[0m ds \u001b[38;5;241m=\u001b[39m \u001b[43mxr\u001b[49m\u001b[38;5;241m.\u001b[39mopen_dataset(url)\n\u001b[1;32m      5\u001b[0m ds\n",
      "\u001b[0;31mNameError\u001b[0m: name 'xr' is not defined"
     ]
    }
   ],
   "source": [
    "url = 'https://podaac-opendap.jpl.nasa.gov:443/opendap/allData/oscar/preview/L4/oscar_third_deg/oscar_vel2019.nc.gz'\n",
    "\n",
    "ds = xr.open_dataset(url)\n",
    "\n",
    "ds"
   ]
  },
  {
   "cell_type": "markdown",
   "metadata": {},
   "source": [
    "# plot global surface U (zonal speed)\n",
    "\n",
    "on a particular day: 2019-01-01\n",
    "\n",
    "```python\n",
    "ds.u.___(___='2019-01-01', ___='nearest').plot()\n",
    "```"
   ]
  },
  {
   "cell_type": "code",
   "execution_count": null,
   "metadata": {},
   "outputs": [],
   "source": []
  },
  {
   "cell_type": "markdown",
   "metadata": {},
   "source": [
    "# just look at the western north atlantic:\n",
    "\n",
    "select only lon = 275:350, lat = 60:20 , on a single day: 2019-01-01\n",
    "\n",
    "remember to use `.sel( dim = slice(start, stop)`\n",
    "\n",
    "```python\n",
    "ds.u.___(___='2019-01-01', ___=slice(275, 350), ___=slice(60, 20)).plot()\n",
    "```\n",
    "\n"
   ]
  },
  {
   "cell_type": "code",
   "execution_count": null,
   "metadata": {},
   "outputs": [],
   "source": []
  },
  {
   "cell_type": "markdown",
   "metadata": {},
   "source": [
    "Now save that exact subset you just created into a new dataarry called `subset`:\n",
    "\n",
    "```python\n",
    "subset = ___\n",
    "```"
   ]
  },
  {
   "cell_type": "code",
   "execution_count": null,
   "metadata": {},
   "outputs": [],
   "source": []
  },
  {
   "cell_type": "markdown",
   "metadata": {},
   "source": [
    "# plot the vectors\n",
    "\n",
    "we can use a matplotlib function called `plt.quiver()` to plot vectors. It takes as arguments the x, y locations, and the u, and v components of the velocity: `plt.quiver(x, y, u, v)`\n",
    "\n",
    "this is annoying, but the velocity components in our data have 3 dims: depth, latitude, and longitude, and quiver can only handle 2D data, so we need to select a dimention using the `numpy` style selections. In our case the u and v data we want for plotting can be gotten with `subset.u[0,:,:]` and `subset.v[0,:,:]`\n",
    "\n",
    "try filling in the blanks to make a quiverplot:\n",
    "\n",
    "```python\n",
    "plt.quiver(subset.___ , subset.___ , subset.___[0,:,:], subset.v[0,:,:])\n",
    "\n",
    "```\n",
    "\n"
   ]
  },
  {
   "cell_type": "code",
   "execution_count": null,
   "metadata": {},
   "outputs": [],
   "source": []
  },
  {
   "cell_type": "markdown",
   "metadata": {},
   "source": [
    "after you make the full map, try making a zoomed in version using `plt.xlim()` and `plt.ylim()`\n",
    "\n",
    "```python\n",
    "plt.quiver(subset.___, subset.___, subset.u[0,:,:], subset.v[0,:,:])\n",
    "plt.xlim([280, 300])\n",
    "plt.ylim([25, 45])\n",
    "\n",
    "```"
   ]
  },
  {
   "cell_type": "code",
   "execution_count": null,
   "metadata": {},
   "outputs": [],
   "source": []
  },
  {
   "cell_type": "code",
   "execution_count": null,
   "metadata": {},
   "outputs": [],
   "source": []
  }
 ],
 "metadata": {
  "kernelspec": {
   "display_name": "Python 3 (ipykernel)",
   "language": "python",
   "name": "python3"
  },
  "language_info": {
   "codemirror_mode": {
    "name": "ipython",
    "version": 3
   },
   "file_extension": ".py",
   "mimetype": "text/x-python",
   "name": "python",
   "nbconvert_exporter": "python",
   "pygments_lexer": "ipython3",
   "version": "3.11.4"
  }
 },
 "nbformat": 4,
 "nbformat_minor": 4
}

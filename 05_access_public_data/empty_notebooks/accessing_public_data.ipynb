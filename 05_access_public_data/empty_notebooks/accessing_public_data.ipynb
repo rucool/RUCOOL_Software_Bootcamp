{
 "cells": [
  {
   "cell_type": "markdown",
   "metadata": {},
   "source": [
    "# Accessing public data from the web\n",
    "\n",
    "We are going to run though a bunch of examples of how to get data from the web. In all these cases we are going to use `xarray` to directly grab data from the web - the original data files themselves won't ever be downloaded to our local computer. Instead `xarray` will open them directly from the server where they are stored. \n",
    "\n",
    "This has a few advantages: `xarray.open_dataset()` will let you ask for a small subset of very large datasets. Using this 'remote load' proceedure you can work with parts of datasets that are too big for you to download. Additionally, if those public datasets are updated, either by data that is continuously flowing in, or new processing methods, you will always get the latest and greatest directly from the server. \n",
    "\n",
    "There are LOTS of ways to access public data with python. All of it is powerful, some of it is more complicated than I want to get into in this class. \n",
    "\n",
    "What we are going to do is work with some low hanging fruit: datasets that are avialable on what is called a THREDDS server, and accessable via OPeNDAP. \n",
    "\n",
    "\"The THREDDS Data Server (TDS) is a web server that provides metadata and data access for scientific datasets, using OPeNDAP, OGC WMS and WCS, HTTP, and other remote data access protocols. The TDS is developed and supported by Unidata, a division of the University Corporation for Atmospheric Research (UCAR), and is sponsored by the National Science Foundation.\" - https://www.unidata.ucar.edu/software/tds/current/\n",
    "\n",
    "Basically, THREDDS lets you get a URL that points you at data. \n",
    "\n",
    "Anyone who creates data can build their own THREDDS server to provide that data to the public. \n",
    "\n",
    "\"OPeNDAP stands for \"Open-source Project for a Network Data Access Protocol\"\n",
    "OPeNDAP is both the name of a non-profit organization and the commonly-used name of a protocol which the OPeNDAP organization has developed. The DAP2 protocol provides a discipline-neutral means of requesting and providing data across the World Wide Web.\" - https://www.opendap.org/about\n",
    "\n",
    "Basically OPeNDAP is one way that `xarray` talks to the server and gets data. \n",
    "\n",
    "If you are looking for new data to plot, you might try googling the data you are interested in (HF radar for example) along with THREDDS and/or OPeNDAP. \n",
    "\n",
    "You will typically need to navigate around to find the url address of your data, but once you have it, you can analize away!\n",
    "\n",
    "### other methods:\n",
    "There are many other ways to access data, typically using `requests` or more complicated queries from ERDDAP servers( ERDDAP is a data server that gives you a simple, consistent way to download subsets of gridded and tabular scientific datasets in common file formats and make graphs and maps).\n",
    "\n",
    "We are just looking at the tip of the iceberg here. I'd encourage you to learn more on your own about accessing remote data with python, but we don't have time to cover it all!\n",
    "\n",
    "\n"
   ]
  },
  {
   "cell_type": "code",
   "execution_count": null,
   "metadata": {},
   "outputs": [],
   "source": []
  }
 ],
 "metadata": {
  "kernelspec": {
   "display_name": "Python 3",
   "language": "python",
   "name": "python3"
  },
  "language_info": {
   "codemirror_mode": {
    "name": "ipython",
    "version": 3
   },
   "file_extension": ".py",
   "mimetype": "text/x-python",
   "name": "python",
   "nbconvert_exporter": "python",
   "pygments_lexer": "ipython3",
   "version": "3.8.11"
  }
 },
 "nbformat": 4,
 "nbformat_minor": 4
}

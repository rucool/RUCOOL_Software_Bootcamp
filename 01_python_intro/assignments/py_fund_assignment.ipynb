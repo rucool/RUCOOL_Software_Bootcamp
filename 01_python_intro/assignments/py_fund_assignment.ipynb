{
 "cells": [
  {
   "cell_type": "markdown",
   "metadata": {},
   "source": [
    "# Homework excercises for the Python Fundementals module\n",
    "\n",
    "These excercises will help you practice and expand your knowledge. \n",
    "\n",
    "I'll ask you to work through them as we get through certain segments"
   ]
  },
  {
   "cell_type": "markdown",
   "metadata": {},
   "source": [
    "# Part 1\n",
    "## Calculate the max inflammation for each patient over all days\n",
    "\n",
    "What if we need the maximum inflammation for each patient over all days (as in the next diagram on the left) or the average for each day (as in the diagram on the right)? As the diagram below shows, we want to perform the operation across an axis:\n",
    "\n",
    "![](https://swcarpentry.github.io/python-novice-inflammation/fig/python-operations-across-axes.png)\n",
    "\n",
    "To support this functionality, most array functions allow us to specify the axis we want to work on.\n",
    "\n",
    "Read the documentation for `numpy.max()` (https://numpy.org/doc/stable/reference/generated/numpy.ndarray.max.html) then calculate maximum inflammation for each patient over all days and save it to a variable `patient_max`\n",
    "\n",
    "start by importing numpy so you can use that. in a separate cell load in the data, then in the next cell do your calculation"
   ]
  },
  {
   "cell_type": "code",
   "execution_count": null,
   "metadata": {},
   "outputs": [],
   "source": [
    "# import numpy\n"
   ]
  },
  {
   "cell_type": "code",
   "execution_count": null,
   "metadata": {},
   "outputs": [],
   "source": [
    "# load in data from the file inflammation-01.csv that you used during lectures \n",
    "# (make sure the path of file is correct!)\n",
    "\n"
   ]
  },
  {
   "cell_type": "code",
   "execution_count": null,
   "metadata": {},
   "outputs": [],
   "source": [
    "# calc all patient max & print out here:\n"
   ]
  },
  {
   "cell_type": "markdown",
   "metadata": {},
   "source": [
    "next calculate the average inflammation per day averaged across all patients: call it `daily_avg` "
   ]
  },
  {
   "cell_type": "code",
   "execution_count": null,
   "metadata": {},
   "outputs": [],
   "source": [
    "# calc daily_avg here:\n"
   ]
  },
  {
   "cell_type": "markdown",
   "metadata": {},
   "source": [
    "## what is the maximum of the daily average inflammation? \n",
    "\n"
   ]
  },
  {
   "cell_type": "code",
   "execution_count": null,
   "metadata": {},
   "outputs": [],
   "source": [
    "# answer here\n"
   ]
  },
  {
   "cell_type": "markdown",
   "metadata": {},
   "source": [
    "## plot all datasets on one figure\n",
    "\n",
    "use what you know about `for` loops, `glob`, `matplotlib` and `numpy` to plot the mean inflammation for all patents over time FOR EACH DATASET on the same figure. \n",
    "\n",
    "There should be a line on your figure plotted for each datast. "
   ]
  },
  {
   "cell_type": "code",
   "execution_count": null,
   "metadata": {},
   "outputs": [],
   "source": [
    "# answer here\n",
    "\n",
    "\n",
    "#create a 'for' loop that prints the filename, and plots the mean for each :\n"
   ]
  },
  {
   "cell_type": "markdown",
   "metadata": {},
   "source": [
    "# Part 2\n",
    "## creating functions\n",
    "\n",
    "Write a function that takes two arguments (feet and inches) and returns height in meters\n",
    "Verify it gives sensible answers"
   ]
  },
  {
   "cell_type": "code",
   "execution_count": null,
   "metadata": {},
   "outputs": [],
   "source": [
    "# answer here\n",
    "\n"
   ]
  },
  {
   "cell_type": "code",
   "execution_count": null,
   "metadata": {},
   "outputs": [],
   "source": [
    "# use the fuction\n"
   ]
  },
  {
   "cell_type": "markdown",
   "metadata": {},
   "source": [
    "# Part 3\n",
    "## Work with real ARGO ocean profile data\n",
    "\n",
    "Argo floats (https://argo.ucsd.edu/) are profiling drifters that have revolutionized ocean observing\n",
    "\n",
    "#### read through the \"Real Data\" section of Abernathy: https://earth-env-data-science.github.io/lectures/basic_scipy/numpy_and_matplotlib.html#real-data\n",
    "\n",
    "\n",
    "### Analyze ARGO Data\n",
    "In this problem, we use real data from ocean profiling floats.\n",
    "\n",
    "\n",
    "1. Load the data file (argo_float_4901412.npz ) using `numpy.load()` and save it to a variable called `data`. This loads the data as a `dictionary` (remember those?) where the `keys` are the name of a ARGO observation, and the `values` are the data for that variable\n",
    "\n",
    "1. use `list(data.keys())` to see the `key` labels for the data \n",
    "\n",
    "1. Extract the temperature, pressure and salinity arrays to variables called T, S, P \n",
    "\n",
    "1. Extract the date, lat, lon, and level arrays. \n",
    "\n",
    "1. Note the shapes of T, S and P compared to these (date, lat, lon, and level) arrays. How do they line up?\n",
    "\n",
    "1. Make a plot for the first column of data in T, S and P (three plots). The vertical scale should be the levels data.  Make sure you label the axes on each plot. Flip the veritcal axis direction so that levels increase downward on the plot using `plt.ylim([80, 0])`. change that to `plt.ylim([ 0, 80])` and note what happens.\n",
    "\n",
    "1. The data consist of a series of temperature and salinity profiles. How many profiles are there? Make a plot of all of them using `plt.pcolormesh()`. Check out the documentation for pcolormesh: https://matplotlib.org/3.3.0/api/_as_gen/matplotlib.pyplot.pcolormesh.html . use your date data for the x axis, levels for the y axis, and T or S to be the data that is represented in color. Add a `colorbar()`\n",
    "\n",
    "1. Compute the mean of each of T, and S at each level. When you look at the `pcolormesh` image from the excercise above, you will see some white areas in the data. These are places with no, or bad data for some reason. They are filled with a data type called `NaN`, short for 'not-a-number'. `NaN` has a property that any math operation on it changes the output to `NaN`, for example 4+ `NaN` = `NaN`. When we take the mean in this excercise I want you to use a variation on `numpy.mean()` called `numpy.nanmean()` which still takes the average, but ignore `NaN` values in the mean.\n",
    "\n",
    "1. Now make two plots: show only the mean T and S at each depth. extra credit: Show error bars on each plot using the standard deviations. Again, make sure you label the axes and put a title on each plot.\n",
    "\n",
    "1. Create a scatter plot of the positions of the ARGO float data. Color the positions by the date. Add a grid overlay using `plt.grid()`. check out the documentation for `scatter()`: https://matplotlib.org/3.3.0/api/_as_gen/matplotlib.pyplot.scatter.html\n",
    "\n",
    "Don’t forget to label the axes!"
   ]
  },
  {
   "cell_type": "code",
   "execution_count": null,
   "metadata": {},
   "outputs": [],
   "source": [
    "# 1 load ARGO data file and \n",
    "# 2 examine keys\n",
    "\n",
    "\n"
   ]
  },
  {
   "cell_type": "code",
   "execution_count": null,
   "metadata": {},
   "outputs": [],
   "source": [
    "#3, 4 extract the data into named variable arrays \n",
    "# 5 print the shapes of a T, S, P and date, lat, lon, level\n",
    "\n"
   ]
  },
  {
   "cell_type": "code",
   "execution_count": null,
   "metadata": {},
   "outputs": [],
   "source": [
    "# 6  plot the first column of T, S, P vs levels\n",
    "\n"
   ]
  },
  {
   "cell_type": "code",
   "execution_count": null,
   "metadata": {},
   "outputs": [],
   "source": [
    "#7  use pcolormesh to plot the series of T and S profiles as a color panel\n",
    "# flip the yaxis direction the same way as you did above\n",
    "# add a colorbar\n",
    "\n"
   ]
  },
  {
   "cell_type": "code",
   "execution_count": null,
   "metadata": {},
   "outputs": [],
   "source": [
    "#8 get the mean of T and S at each depth level\n",
    "\n"
   ]
  },
  {
   "cell_type": "code",
   "execution_count": null,
   "metadata": {},
   "outputs": [],
   "source": [
    "#9 plot the mean temp and salinity vs level (depth)\n"
   ]
  },
  {
   "cell_type": "code",
   "execution_count": null,
   "metadata": {},
   "outputs": [],
   "source": [
    "# 10  make a scatter plot of the lat and lon\n"
   ]
  },
  {
   "cell_type": "code",
   "execution_count": null,
   "metadata": {},
   "outputs": [],
   "source": []
  }
 ],
 "metadata": {
  "kernelspec": {
   "display_name": "Python 3 (ipykernel)",
   "language": "python",
   "name": "python3"
  },
  "language_info": {
   "codemirror_mode": {
    "name": "ipython",
    "version": 3
   },
   "file_extension": ".py",
   "mimetype": "text/x-python",
   "name": "python",
   "nbconvert_exporter": "python",
   "pygments_lexer": "ipython3",
   "version": "3.11.9"
  }
 },
 "nbformat": 4,
 "nbformat_minor": 4
}

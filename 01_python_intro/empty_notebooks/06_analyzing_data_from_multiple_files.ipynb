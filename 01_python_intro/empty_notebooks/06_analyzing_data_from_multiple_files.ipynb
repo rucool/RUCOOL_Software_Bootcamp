{
 "cells": [
  {
   "cell_type": "markdown",
   "metadata": {},
   "source": [
    "# Analyzing Data From Multiple Files #\n",
    "\n",
    "If you look in the data folder, you'll notice that we have dozens of datasets that we plan on evaluating.  Going through one by one is possible, but not practical. \n",
    "\n",
    "If we want to perform the same action on several items, python allows us to do so by using `for` loops.\n",
    "\n",
    "## Questions\n",
    "\n",
    " How can I do the same operations on many different files?\n",
    "\n",
    "## Objectives\n",
    "\n",
    "1) Use a library function to get a list of filenames that match a wildcard pattern.\n",
    "\n",
    "2) Write a `for` loop to process multiple files.\n",
    "\n",
    "---\n",
    "\n",
    "## Credit:\n",
    "\n",
    "things here are a mix of the really excellent Software Carpentry tutorial on Python: http://swcarpentry.github.io/python-novice-inflammation/ \n",
    "\n",
    "I've made some slight adaptations here and there, but the credit goes to those organizations. I hope I am using this correctly under the licences:\n",
    "\n",
    "https://earth-env-data-science.github.io/LICENSE.html\n",
    "https://swcarpentry.github.io/python-novice-inflammation/LICENSE.html\n",
    "\n",
    "\n",
    "\n",
    "---\n",
    "\n",
    "We now have almost everything we need to process all our data files. The only thing that’s missing is a library with an unfortunate name: `glob` . lets import `glob`, and `matplotlib` and `numpy` (we are going to use all of them)\n",
    "\n",
    "\n"
   ]
  },
  {
   "cell_type": "code",
   "execution_count": null,
   "metadata": {},
   "outputs": [],
   "source": []
  },
  {
   "cell_type": "markdown",
   "metadata": {},
   "source": [
    "The `glob` library contains a function, also called `glob`, that finds files and directories whose names match a pattern. We provide those patterns as strings: the character `*` matches zero or more characters, while `?` matches any one character. \n",
    "\n",
    "The useage looks something like `glob.glob(pattern)`\n",
    "\n",
    "We can use this to get the names of all the CSV files in the data directory:"
   ]
  },
  {
   "cell_type": "code",
   "execution_count": null,
   "metadata": {},
   "outputs": [],
   "source": []
  },
  {
   "cell_type": "markdown",
   "metadata": {},
   "source": [
    "As these examples show, `glob.glob`’s result is a list of file and directory paths in arbitrary order. This means we can loop over it to do \"something\" with each filename in turn. In our case, the “something” we want to do is generate a set of plots for each file in our inflammation dataset. If we want to start by analyzing just the first three files in alphabetical order, we can use a built-in function called `sorted` to generate a new sorted list from the `glob.glob` output:"
   ]
  },
  {
   "cell_type": "code",
   "execution_count": null,
   "metadata": {},
   "outputs": [],
   "source": []
  },
  {
   "cell_type": "markdown",
   "metadata": {},
   "source": [
    "Now, lets loop through this list of files, and plot some data from each one. \n",
    "\n",
    "Let's make the same statistics plots we made before, but for the first three data files. This is a pretty long but of code, so bear with me. Remember to think about the structure of loops"
   ]
  },
  {
   "cell_type": "code",
   "execution_count": null,
   "metadata": {},
   "outputs": [],
   "source": []
  },
  {
   "cell_type": "markdown",
   "metadata": {},
   "source": [
    "# questions? \n",
    "\n",
    "that was a lot of code, let's pause. Everyone get what we did? that was our most complex loop yet"
   ]
  },
  {
   "cell_type": "markdown",
   "metadata": {},
   "source": [
    "The end...\n",
    "\n",
    "# Exercise 06 / Breakout"
   ]
  }
 ],
 "metadata": {
  "kernelspec": {
   "display_name": "Python 3 (ipykernel)",
   "language": "python",
   "name": "python3"
  },
  "language_info": {
   "codemirror_mode": {
    "name": "ipython",
    "version": 3
   },
   "file_extension": ".py",
   "mimetype": "text/x-python",
   "name": "python",
   "nbconvert_exporter": "python",
   "pygments_lexer": "ipython3",
   "version": "3.11.9"
  }
 },
 "nbformat": 4,
 "nbformat_minor": 4
}

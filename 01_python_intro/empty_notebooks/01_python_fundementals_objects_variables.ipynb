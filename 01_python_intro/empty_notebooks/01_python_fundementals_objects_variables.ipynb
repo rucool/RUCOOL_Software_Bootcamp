{
 "cells": [
  {
   "cell_type": "markdown",
   "metadata": {
    "tags": []
   },
   "source": [
    "# Intro to Python\n",
    "\n",
    "\n",
    "\n",
    "## Objectives\n",
    "\n",
    "1. work with python!\n",
    "\n",
    "\n",
    "---\n",
    "\n",
    "## Credit:\n",
    "\n",
    "things here are a mix of the really excellent Software Carpentry tutorial on Python: http://swcarpentry.github.io/python-novice-inflammation/ . \n",
    "\n",
    "and the official python tutorial: https://docs.python.org/3/tutorial/\n",
    "\n",
    "And Ryan Abernathys open book, which we will be looking at a lot! https://earth-env-data-science.github.io/lectures/core_python/python_fundamentals.html\n",
    "\n",
    "We've made some slight adaptations here and there, but the credit goes to those organizations. I hope I am using this correctly under the licences:\n",
    "\n",
    "https://earth-env-data-science.github.io/LICENSE.html\n",
    "https://swcarpentry.github.io/python-novice-inflammation/LICENSE.html\n",
    "\n",
    "\n"
   ]
  },
  {
   "cell_type": "markdown",
   "metadata": {},
   "source": [
    "## Working with Python ##\n",
    "\n",
    "There are three main ways to use python.\n",
    "\n",
    "1. By running a python file in a terminal, e.g: \n",
    "```bash \n",
    ">>>$ python myscript.py\n",
    "```\n",
    "1. Through an interactive console (python interpreter or ipython shell)\n",
    "1. In an interactive notebook (e.g. Jupyterlab)\n",
    "\n",
    "In this course, we will mostly be interacting with python via Jupyter notebooks like the one we are using right now"
   ]
  },
  {
   "cell_type": "markdown",
   "metadata": {},
   "source": [
    "## Basic Variables: Numbers and Strings ##\n",
    "\n",
    "A `variable` is a label for a piece of data"
   ]
  },
  {
   "cell_type": "code",
   "execution_count": 1,
   "metadata": {},
   "outputs": [],
   "source": [
    "# comments are anything that comes after the \"#\" symbol\n",
    "# a comment is a note that is not \"run\" by python, ie not code"
   ]
  },
  {
   "cell_type": "markdown",
   "metadata": {},
   "source": [
    "Note the `=` is not like how we use it in mathematics, think of it as assigning a value to a variable. \n",
    "\n",
    "It seems like nothing happened when we ran the code cell, how do we see the variables?\n",
    "\n",
    "We can use out first built-in python function: `print()`\n",
    "\n",
    "In general in python a function will have a name (print) followed by parenthesis `()`. Things (called 'arguments') that you put into `()` get passed to the function and used to do whatever the function does. \n",
    "\n",
    "Let's use `print()` to see our variables"
   ]
  },
  {
   "cell_type": "code",
   "execution_count": 2,
   "metadata": {},
   "outputs": [],
   "source": [
    "# how to we see our variables?\n"
   ]
  },
  {
   "cell_type": "markdown",
   "metadata": {},
   "source": [
    "All variables are code 'objects'. Every object has a type (class). To find out what type your variables are use the built in function `type()`"
   ]
  },
  {
   "cell_type": "code",
   "execution_count": 3,
   "metadata": {},
   "outputs": [],
   "source": [
    "# what do you think the output here means?\n"
   ]
  },
  {
   "cell_type": "code",
   "execution_count": 4,
   "metadata": {},
   "outputs": [],
   "source": [
    "# as a shortcut, iPython notebooks will automatically print whatever is on the last line\n"
   ]
  },
  {
   "cell_type": "markdown",
   "metadata": {},
   "source": [
    "we can check for the type of an object using the built-in keyword `is`, which checks if two things are equal"
   ]
  },
  {
   "cell_type": "code",
   "execution_count": 5,
   "metadata": {},
   "outputs": [],
   "source": [
    "# we can check for the type of an object\n"
   ]
  },
  {
   "cell_type": "markdown",
   "metadata": {},
   "source": [
    "note that `True` and `False` are special objects, called booleans, in python. They are useful for all sorts of codeing stuff"
   ]
  },
  {
   "cell_type": "markdown",
   "metadata": {},
   "source": [
    "We just saw two types of data objects: `int` and `str`\n",
    "\n",
    "#### Different code 'objects' have `attributes` and `methods`\n",
    "\n",
    "these are features of the code object that allow you to do stuff with it\n",
    "\n",
    "**they can be accessed via the syntax ``variable.method``**\n",
    "\n",
    "In code notebooks like this one, you can autocomplete if you press ``<tab>`` to show you the methods available for a code object\n",
    "\n",
    "There are a million, but here is an example of one for strings which lets you capitalize a word"
   ]
  },
  {
   "cell_type": "code",
   "execution_count": 6,
   "metadata": {},
   "outputs": [],
   "source": [
    "# this calls the method\n"
   ]
  },
  {
   "cell_type": "markdown",
   "metadata": {},
   "source": [
    "in general if you use a method (like `b.capitalize()`) that does an action to your data you will follow it with `()` - think of the `()` as the sign for an action, or function. \n",
    "\n",
    "## you can perform calculations with variables\n",
    "\n",
    "these calculations act differently for different types of objects. \n",
    "\n",
    "What happens if we use `+` to add: numbers, strings, and numbers to a string?"
   ]
  },
  {
   "cell_type": "code",
   "execution_count": 7,
   "metadata": {},
   "outputs": [],
   "source": [
    "# binary operations act differently on different types of objects\n"
   ]
  },
  {
   "cell_type": "markdown",
   "metadata": {},
   "source": [
    "## Math ##\n",
    "\n",
    "Basic arithmetic is very intuitive in python. \n",
    "\n",
    "Addition and subtraction."
   ]
  },
  {
   "cell_type": "code",
   "execution_count": null,
   "metadata": {},
   "outputs": [],
   "source": []
  },
  {
   "cell_type": "markdown",
   "metadata": {},
   "source": [
    "Multiplication."
   ]
  },
  {
   "cell_type": "code",
   "execution_count": null,
   "metadata": {},
   "outputs": [],
   "source": []
  },
  {
   "cell_type": "markdown",
   "metadata": {},
   "source": [
    "Division."
   ]
  },
  {
   "cell_type": "code",
   "execution_count": null,
   "metadata": {},
   "outputs": [],
   "source": []
  },
  {
   "cell_type": "markdown",
   "metadata": {},
   "source": [
    "Conversion from integers to floats."
   ]
  },
  {
   "cell_type": "code",
   "execution_count": null,
   "metadata": {},
   "outputs": [],
   "source": []
  },
  {
   "cell_type": "markdown",
   "metadata": {},
   "source": [
    "Exponentiation."
   ]
  },
  {
   "cell_type": "code",
   "execution_count": null,
   "metadata": {},
   "outputs": [],
   "source": []
  },
  {
   "cell_type": "markdown",
   "metadata": {},
   "source": [
    "Rounding."
   ]
  },
  {
   "cell_type": "code",
   "execution_count": null,
   "metadata": {},
   "outputs": [],
   "source": []
  },
  {
   "cell_type": "markdown",
   "metadata": {},
   "source": [
    "# Logic\n",
    "\n",
    "You can use keywords to perform logical operations in python.\n",
    "\n",
    "This is a fundamental block of building computer programs.\n",
    "\n",
    "And statements."
   ]
  },
  {
   "cell_type": "code",
   "execution_count": 8,
   "metadata": {},
   "outputs": [],
   "source": [
    "# logic\n"
   ]
  },
  {
   "cell_type": "markdown",
   "metadata": {},
   "source": [
    "An example with greater than. "
   ]
  },
  {
   "cell_type": "code",
   "execution_count": null,
   "metadata": {},
   "outputs": [],
   "source": []
  },
  {
   "cell_type": "markdown",
   "metadata": {},
   "source": [
    "Two things which are not true!"
   ]
  },
  {
   "cell_type": "code",
   "execution_count": null,
   "metadata": {},
   "outputs": [],
   "source": []
  },
  {
   "cell_type": "markdown",
   "metadata": {},
   "source": [
    "Or statements."
   ]
  },
  {
   "cell_type": "code",
   "execution_count": null,
   "metadata": {},
   "outputs": [],
   "source": []
  },
  {
   "cell_type": "markdown",
   "metadata": {},
   "source": [
    "Combining logic statements."
   ]
  },
  {
   "cell_type": "code",
   "execution_count": null,
   "metadata": {},
   "outputs": [],
   "source": []
  }
 ],
 "metadata": {
  "kernelspec": {
   "display_name": "Python 3 (ipykernel)",
   "language": "python",
   "name": "python3"
  },
  "language_info": {
   "codemirror_mode": {
    "name": "ipython",
    "version": 3
   },
   "file_extension": ".py",
   "mimetype": "text/x-python",
   "name": "python",
   "nbconvert_exporter": "python",
   "pygments_lexer": "ipython3",
   "version": "3.11.9"
  }
 },
 "nbformat": 4,
 "nbformat_minor": 4
}

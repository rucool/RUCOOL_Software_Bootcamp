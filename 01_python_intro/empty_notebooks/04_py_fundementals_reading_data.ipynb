{
 "cells": [
  {
   "cell_type": "markdown",
   "metadata": {
    "tags": []
   },
   "source": [
    "# Working with data\n",
    "\n",
    "**The best way to learn how to program is to do something useful, so this introduction to Python is built around a common scientific task: data analysis.**\n",
    "\n",
    "So far we have typed in all our data directly. This is good for teaching, but not realistic. In the real world we are going to have data formatted in a file of some sort, and we will want to be able to read that data into python to work with it. \n",
    "\n",
    "Let's dive right in and do this!\n",
    "\n",
    "## Credit:\n",
    "\n",
    "things here are a mix of the really excellent Software Carpentry tutorial on Python: http://swcarpentry.github.io/python-novice-inflammation/ \n",
    "\n",
    "I've made some slight adaptations here and there, but the credit goes to those organizations. I hope I am using this correctly under the licences:\n",
    "\n",
    "https://earth-env-data-science.github.io/LICENSE.html\n",
    "https://swcarpentry.github.io/python-novice-inflammation/LICENSE.html\n",
    "\n",
    "\n",
    "# Loading data into python \n",
    "\n",
    "In order to do something more useful, we are going to need to be able to access data. How do we load data into python? To load the test data we will work with, we need to access (`import` in Python terminology) a library of code (think of it as a toolbox) called `NumPy`.\n",
    "\n",
    "![](numpy.png)\n",
    "\n",
    "In general you should use this library if you want to do fancy things with numbers, especially if you have matrices or arrays. \n",
    "\n",
    "`NumPy` is a toolbox that is not part of the most basic part of python. It's a code library that lots and lots of people work on imporving. It forms the basis of almost all other scientific python tool boxes, so it's super important. \n",
    "\n",
    "### installing `numpy` with (Ana)conda (_shouldn't be necessary because it comes installed with Anaconda by default, but just in case..._)\n",
    "\n",
    "To get `NumPy` (you only need to do this once):\n",
    "\n",
    "1. go to the little `+` on the left to open a `launcher` window. \n",
    "1. click the 'terminal' tile to open a terminal\n",
    "1. type `conda env list` and hit enter. Make sure that there is a `*` next to the line that says swbc\n",
    "1. if that's right type `conda install numpy`\n",
    "1. when it asks `proceed ([y]/n)?` type `y` and hit enter\n",
    "\n",
    "Great! You just used the anaconda manager to download and install this important python library! You only need to do this once to get `NumPy` on your computer. We will follow the same proceedure to get a lot of other code, but lets start with the `NumPy` tools.\n",
    "\n",
    "### importing `NumPy` into this notebook\n",
    "\n",
    "Ok, one more critical step! before we can use the tools from numpy in this code notebook, we need to tell python we are going to use it. In python-speak we need to `import` the `NumPy` library. We will always have a step like this in our code where we gather all the tools we need for our work. We can import `NumPy` using:"
   ]
  },
  {
   "cell_type": "code",
   "execution_count": null,
   "metadata": {},
   "outputs": [],
   "source": []
  },
  {
   "cell_type": "markdown",
   "metadata": {},
   "source": [
    "`NumPy` has *many* different tools for working with data. There are so many I don't know all of them, and I wouldn't expect you to either. I will show you important ones, and as you code more you will start to remember what tools you need. \n",
    "\n",
    "All python tool libraries (also called packages) have documentation online Almost always it is very good, including examples and tutorials that help you learn how to use the tools. The documentation for `NumPy` is here:\n",
    "\n",
    "https://numpy.org/doc/stable/\n",
    "\n",
    "Let's get started useing `NumPy`. \n",
    "\n",
    "### test data:\n",
    "\n",
    "in a directory called `data` you have a bunch of files like `inflammation-01.csv`. These are simple data files with data in comma-seperated-value format. **Open one up useing the file browser in Jupyterlab (on left)**. You can also do this with notepad on a PC, with textEdit on a mac , or with Excel. \n",
    "\n",
    "Each row of this data represents a patient, and the columns are the patients inflammation readings on subsequent days. Take a look and lets make sure we get the basic picture of the data.\n",
    "\n",
    "Ok, now let's read that data into python so we can work with it. \n",
    "\n",
    "I happen to know that `NumPy` has a function that can help us: its called `loadtxt()`. What do you guess it does?\n",
    "\n",
    "We use `loadtxt()` like other methods we have seen before (remember `b.capitalize()`?):\n",
    "\n",
    "```python\n",
    "numpy.loadtxt(filename, delimiter=',')\n",
    "\n",
    "```\n",
    "\n",
    "what is the `filename` argument? what do you think the `delimiter=','` means?"
   ]
  },
  {
   "cell_type": "code",
   "execution_count": null,
   "metadata": {},
   "outputs": [],
   "source": []
  },
  {
   "cell_type": "markdown",
   "metadata": {
    "colab_type": "text",
    "id": "4IOE8aZhPfAj"
   },
   "source": [
    "The expression `numpy.loadtxt(...)` is a function call that asks Python to run the function `loadtxt` which belongs to the `numpy` library. **This dotted notation is used everywhere in Python: the thing that appears before the dot contains the thing that appears after.**\n",
    "\n",
    "`numpy.loadtxt()` has two 'inputs': the name of the file (and path to it if it lives in another directory) we want to read and the delimiter that separates values on a line. These both need to be character strings (or strings for short), so we put them in quotes.\n",
    "\n",
    "Since we haven’t told it to do anything else with the function’s output, the notebook displays it. In this case, that output is the data we just loaded. By default, only a few rows and columns are shown (with `...` to omit elements when displaying big arrays). To save space, Python displays numbers as 1. instead of 1.0 when there’s nothing interesting after the decimal point.\n",
    "\n",
    "Our call to `numpy.loadtxt` read our file but didn’t save the data in memory. To do that, we need to assign the array to a variable. Just as we can assign a single value to a variable, we can also assign an array of values to a variable using the same syntax. Let’s re-run `numpy.loadtxt` and save the returned data: "
   ]
  },
  {
   "cell_type": "code",
   "execution_count": null,
   "metadata": {
    "colab": {},
    "colab_type": "code",
    "id": "9X-AU3HyPfAk"
   },
   "outputs": [],
   "source": []
  },
  {
   "cell_type": "markdown",
   "metadata": {
    "colab_type": "text",
    "id": "hmX_EfqEPfAm"
   },
   "source": [
    "This statement doesn’t produce any output because we’ve assigned the output to the variable `data`. If we want to check that the data have been loaded, we can print the variable’s value:"
   ]
  },
  {
   "cell_type": "code",
   "execution_count": null,
   "metadata": {
    "colab": {},
    "colab_type": "code",
    "id": "pBOZ6duvPfAn",
    "outputId": "e2b5b06b-0371-405e-9641-1316af716ba8"
   },
   "outputs": [],
   "source": []
  },
  {
   "cell_type": "markdown",
   "metadata": {
    "colab_type": "text",
    "id": "OKVlhKUtPfAp"
   },
   "source": [
    "Now that the data are in memory, we can manipulate them. First, let’s ask what type of thing data refers to:\n"
   ]
  },
  {
   "cell_type": "code",
   "execution_count": null,
   "metadata": {
    "colab": {},
    "colab_type": "code",
    "id": "bc6-I2ggPfAq",
    "outputId": "c103f0e7-4c08-4e49-ea67-84d1833bf353"
   },
   "outputs": [],
   "source": []
  },
  {
   "cell_type": "markdown",
   "metadata": {},
   "source": [
    "This is a new data structure. It's like a `list` or a `dictonary` that we saw last time. Except now the data structure is an `ndarray`, which stands for: N-dimensional array (matrix). N refers to the number of dimentions. In this case, there are two dimentions: one is the rows, the other is the columns. \n",
    "\n",
    "**in plan english, what are other names for the 2 demensions of our particular test data?** I mean, what is a descriptive name of those rows and columns? If you made a plot where they were the x an y axis, what would you label them? This is one way to think about the dimentions in a matrix\n",
    "\n",
    "we can check out how big the data is by using the `attribute` (or feature, characteristic) or the `ndarray` data structure called `shape`"
   ]
  },
  {
   "cell_type": "code",
   "execution_count": null,
   "metadata": {},
   "outputs": [],
   "source": []
  },
  {
   "cell_type": "markdown",
   "metadata": {
    "colab_type": "text",
    "id": "xXAnJ59CPfAx"
   },
   "source": [
    "The output tells us that the `data` array variable contains 60 rows and 40 columns. When we created the variable `data` to store our test data, we didn’t just create the array; we also created information about the array, called members or attributes. This extra information describes `data` in the same way an adjective describes a noun. `data.shape` is an attribute of `data` which describes the dimensions of `data`. We use the same dotted notation for the attributes of variables that we use for the functions in libraries because they have the same part-and-whole relationship.\n",
    "\n",
    "**What does the shape mean? think about the patients and observations that the data represent**\n",
    "\n",
    "# Accessing part of the data\n",
    "\n",
    "If we want to get a single number from the array, we must provide an index in square brackets after the variable name, just as we do in math when referring to an element of a matrix. Our inflammation data has two dimensions, so we will need to use two indices to refer to one specific value.\n",
    "\n",
    "Accessing the first value:"
   ]
  },
  {
   "cell_type": "code",
   "execution_count": null,
   "metadata": {},
   "outputs": [],
   "source": []
  },
  {
   "cell_type": "markdown",
   "metadata": {},
   "source": [
    "Accessing a value in the middle."
   ]
  },
  {
   "cell_type": "code",
   "execution_count": null,
   "metadata": {},
   "outputs": [],
   "source": []
  },
  {
   "cell_type": "markdown",
   "metadata": {
    "colab_type": "text",
    "id": "n2ZYVuFaPfA2"
   },
   "source": [
    "# Slicing data\n",
    "\n",
    "An expression like `data[30,20]` grabs a single data point. But we can also easily select whole sections as well. For example, we can select the first ten days (columns) of values for the first four patients (rows) like this:"
   ]
  },
  {
   "cell_type": "code",
   "execution_count": null,
   "metadata": {},
   "outputs": [],
   "source": []
  },
  {
   "cell_type": "markdown",
   "metadata": {
    "colab_type": "text",
    "id": "fxunTflFPfA5"
   },
   "source": [
    "Here, `0:4` is saying, “start at index 0 and go up to, but not including, index 4.” Likewise, `0:10` is saying \"start at index 0 and go up to, but don't include index 10\".  It's important to note, while the starting index of a slice is _inclusive_ the ending index is _exclusive_.  \n",
    "\n",
    "\n",
    "![](python_slicing.png)\n",
    "\n",
    "We don't have to start the slice at the 0 index, either.  For example, we can see the next five rows of data by putting the starting index at `5`."
   ]
  },
  {
   "cell_type": "code",
   "execution_count": null,
   "metadata": {},
   "outputs": [],
   "source": []
  },
  {
   "cell_type": "markdown",
   "metadata": {
    "colab_type": "text",
    "id": "QQzQdz8LPfA7"
   },
   "source": [
    "In fact, we're not even required to declare the starting AND ending points.  If we omit the staring index, Python starts at he beginning, or the 0 index.  If we omit the ending index, the slice continues to the the end of the array.  We can even store the results of a slice into a variable."
   ]
  },
  {
   "cell_type": "code",
   "execution_count": null,
   "metadata": {},
   "outputs": [],
   "source": []
  },
  {
   "cell_type": "markdown",
   "metadata": {
    "colab_type": "text",
    "id": "0NXA2xSzPfA9"
   },
   "source": [
    "# Math\n",
    "\n",
    "Just as we performed mathematical operations on variables containing single real numbers (converting kilograms to pounds), we can performed operations on whole arrarys.  The simplest operations with data are arithmetic: add, subtract, multiply, and divide. When you do such operations on arrays, the operation is done element-by-element. Thus:"
   ]
  },
  {
   "cell_type": "code",
   "execution_count": null,
   "metadata": {},
   "outputs": [],
   "source": []
  },
  {
   "cell_type": "code",
   "execution_count": null,
   "metadata": {},
   "outputs": [],
   "source": []
  },
  {
   "cell_type": "markdown",
   "metadata": {
    "colab_type": "text",
    "id": "KiJSTQx_PfBF"
   },
   "source": [
    "Often, we want to do more than add, subtract, multiply, and divide array elements. NumPy knows how to do more complex operations, too. If we want to find the average inflammation for all patients on all days, for example, we can ask NumPy to compute `data`’s mean value:"
   ]
  },
  {
   "cell_type": "code",
   "execution_count": null,
   "metadata": {},
   "outputs": [],
   "source": []
  },
  {
   "cell_type": "markdown",
   "metadata": {
    "colab_type": "text",
    "id": "SWhQm4RYPfBH"
   },
   "source": [
    "Here, we are calling the function `mean` from the library `numpy`.  Some functions, such as `numpy.mean()` take arguments. Here our variable `data` is passed to the function `mean()`."
   ]
  },
  {
   "cell_type": "markdown",
   "metadata": {},
   "source": [
    "The end...\n",
    "\n",
    "# Exercise 04 / Breakout"
   ]
  }
 ],
 "metadata": {
  "kernelspec": {
   "display_name": "Python 3 (ipykernel)",
   "language": "python",
   "name": "python3"
  },
  "language_info": {
   "codemirror_mode": {
    "name": "ipython",
    "version": 3
   },
   "file_extension": ".py",
   "mimetype": "text/x-python",
   "name": "python",
   "nbconvert_exporter": "python",
   "pygments_lexer": "ipython3",
   "version": "3.11.9"
  }
 },
 "nbformat": 4,
 "nbformat_minor": 4
}

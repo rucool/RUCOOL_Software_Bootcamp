{
 "cells": [
  {
   "cell_type": "markdown",
   "metadata": {},
   "source": [
    "# Texas Tower Buoy data\n",
    "\n",
    "![title](3m_mini.jpg)\n",
    "\n",
    "\n",
    "In the directory is a comma-separated-value (csv) text file with data from the Texas Tower #4 bouy (https://www.ndbc.noaa.gov/station_page.php?station=44066) offshore of New Jersey. \n",
    "\n",
    "We are going to use this data to practice our skills with loading and analysing data using pandas. \n",
    "\n",
    "The file is `44066_erddap.txt`. The 44066 is the station number for the National Data Buoy Center that deploys these things. ERDDAP is a data access server where I got the data (https://coastwatch.pfeg.noaa.gov/erddap/tabledap/cwwcNDBCMet.html) . We will learn a lot more about ERDDAP later, but for now this is just a dataset I've downloaded. "
   ]
  },
  {
   "cell_type": "markdown",
   "metadata": {},
   "source": [
    "# 1. What's in the file\n",
    "First just open the data file with a program of your choosing. You can open it right here in Jupyter Lab by clicking on the file in the filelist on the left. You can use also any normal text editor, or probably excel. Write a short description of what you see"
   ]
  },
  {
   "cell_type": "code",
   "execution_count": null,
   "metadata": {},
   "outputs": [],
   "source": [
    "## answer here"
   ]
  },
  {
   "cell_type": "markdown",
   "metadata": {},
   "source": [
    "# 2. Load and clean up the data with Pandas\n",
    "\n",
    "Like we did in class, we are going to load the data and get it into a useable format. Do this in stages, building up to your best dataframe using a few codes cells to explore along the way.\n",
    "\n",
    "### 2a\n",
    " Start by loading using pandas `read_csv()`without any frills. Call your dataframe `df` and display the first 5 lines of the `df`. (hint, remember to import your libraries first!)"
   ]
  },
  {
   "cell_type": "code",
   "execution_count": null,
   "metadata": {},
   "outputs": [],
   "source": [
    "# answer here\n",
    "\n",
    "#first do your imports\n",
    "\n",
    "# load the dataset using pandas\n",
    "\n"
   ]
  },
  {
   "cell_type": "markdown",
   "metadata": {},
   "source": [
    "### 2b\n",
    "Looks pretty good. Pandas seems to have gotten all the column label right! There is one weird thing though: row `0` looks like it doesn't have numerical data, but has some strings like 'degrees_north' and 'km'. What is your guess about what those strings are? (write you answer as a comment in the cell below)\n",
    "\n",
    "Let's ask pandas to ignore that row when it imports our data. We can do this using an option in `pd.read_csv()` called `skip_rows=[]`. We give `skip_rows` a list of all the rows we want to skip. What row do we want to skip? Remember that as we are reading in the first row (called row `0` in computer-speak) contains the column labels we want to keep. It's the file's *second* row (1 in compu-speak) that has the info we want to throw out. So we want to use the option `skip_rows=[1]` in `pd.read_csv()` to skip that row. \n",
    "\n",
    "Read in the file to a dataframe called `df` using this option.\n",
    "\n",
    "\n",
    "print the first 5 lines of the dataframe `df`"
   ]
  },
  {
   "cell_type": "code",
   "execution_count": null,
   "metadata": {},
   "outputs": [],
   "source": [
    "## answer here\n",
    "\n"
   ]
  },
  {
   "cell_type": "markdown",
   "metadata": {},
   "source": [
    "### 2c\n",
    "\n",
    "Looking really good. \n",
    "\n",
    "We used this option `skip_rows=[]`, but we didn't talk about it in class, so how are you supposed to know about that? You aren't! There are a million options in our python functions, and as you go you are just going to slowly learn about some. But the important lesson here is that if you want to do something (like skip a row) python probably has a way to do it. **Google is your friend.** If you google enough stuff, like \"skip row pandas read_csv\" which is basically just a description of what you wanted to do, I bet you will find some good info. There is also great documentation for all python functions. For pandas it's:  https://pandas.pydata.org/pandas-docs/stable/reference/api/pandas.read_csv.html . Here you will find a lot of info about all the options you can use with `pd.read_csv()`.\n",
    "\n",
    "**You will find you use google and the documententation for different libraries all the time. I do.**\n",
    "\n",
    "OK, there is one last thing we want to do. We are almost there. Let's make a datetime index so we can use pandas time tools. We can see that we have columns for `time` already in a nice format, great. We should be able to turn this into a pandas `datetime` object, then set the `index` of the dataframe to that. \n",
    "\n",
    "In class we used the `parse_dates= [column]` option in pandas to read in a column as a special datetime object. Let's do that and tell pandas we want to use the column `time` as the index. We can do this all in one line using the options  `parse_dates= [\"some_column\"]` and `index_col=[\"some_column\"]`.\n",
    "\n",
    "Do this in the space below and print the first 5 lines\n"
   ]
  },
  {
   "cell_type": "code",
   "execution_count": null,
   "metadata": {},
   "outputs": [],
   "source": [
    "## answer here\n",
    "\n"
   ]
  },
  {
   "cell_type": "markdown",
   "metadata": {},
   "source": [
    "Great. This is the data in the format we want. We can load it and get it all into shape in one line. \n",
    "\n",
    "However, we needed to wrangle the data a little from its original format to be useful: we needed to drop the units row, we had to convert the time column into a pandas `datetime` format, and we needed to set the index. **This is the type of wrangling you will do with data A LOT!** Sometimes we will need to use even more complicated sets of options to get our data into a useful format. Thinking hard about reading and formatting our data correctly is one of the first things we will do on any project.\n",
    "\n",
    "### 2d\n",
    "\n",
    "In the next two cells get a summary of the data types in the data frame, and the descriptive statistics. Recall we had a method for each of these things in class, should just be one line"
   ]
  },
  {
   "cell_type": "code",
   "execution_count": null,
   "metadata": {},
   "outputs": [],
   "source": [
    "# get basic dataframe info"
   ]
  },
  {
   "cell_type": "code",
   "execution_count": null,
   "metadata": {},
   "outputs": [],
   "source": [
    "# get descriptive statistics"
   ]
  },
  {
   "cell_type": "markdown",
   "metadata": {},
   "source": [
    "# 3 Plotting\n",
    "\n",
    "### 3a\n",
    "\n",
    "Make a simple plot of one of the columns of data. They have stange names, but they *almost* make sense: `wtmp` is water temperature and `atmp` is air temperature. \n",
    "\n",
    "Pick one and make a plot of that column vs time. Make sure the x axis shows the date, and the yaxis is your temperature. Look at the example from class if you need a reminder of how to do this. Remember that pandas can make simple plots very easily because it knows roughly what you probably want when looking at a data timeseries"
   ]
  },
  {
   "cell_type": "code",
   "execution_count": null,
   "metadata": {},
   "outputs": [],
   "source": [
    "## answer here\n",
    "\n",
    "\n"
   ]
  },
  {
   "cell_type": "markdown",
   "metadata": {},
   "source": [
    "### 3b\n",
    "\n",
    "Plot air temperature and water temperature on the same plot. \n",
    "\n",
    "In a comment in the code cell write a little about the two timeseries of data:\n",
    "* Why do they have the general shape the have? \n",
    "* How are they alike and how are they different? \n",
    "* Which data record is longer? \n",
    "* Is air temperature or water temperature more variable? "
   ]
  },
  {
   "cell_type": "code",
   "execution_count": null,
   "metadata": {},
   "outputs": [],
   "source": [
    "## answer here\n"
   ]
  },
  {
   "cell_type": "markdown",
   "metadata": {},
   "source": [
    "### 3c\n",
    "\n",
    "In class we used the `pd.resample()` function to get the data in monthly groups. We then used the `mean()` function to get monthly averages. In the space below get *weekly* groups of the air temperature data and take the mean to get weekly means. First plot the raw air temperatures, then plot the weekly mean temperature on top. \n",
    "\n",
    "Hint: in class we used `pd.resample('MS')`, where `'MS'` told pandas to group by month. The input to tell pandas to group by week is `'W'`. "
   ]
  },
  {
   "cell_type": "code",
   "execution_count": null,
   "metadata": {},
   "outputs": [],
   "source": [
    "\n",
    "## answer here\n",
    "\n"
   ]
  },
  {
   "cell_type": "markdown",
   "metadata": {},
   "source": [
    "### 3d\n",
    "\n",
    "Let's try a new type of plot. \n",
    "\n",
    "So far we have plotted an observation (column) from our dataframe vs time using pandas built-in plotting. Let's say we want to do something a little more custom, like plot two of the columns against eachother. \n",
    "\n",
    "For this we are going to use another python library called `matplotlib` - this is the workhorse for most plotting. Almost everything we need is in a part of `matplotlib` called `pyplot`. The standard way to import the things we need from `matplotlib` is: \n",
    "\n",
    "```python\n",
    "import matplotlib.pyplot as plt\n",
    "```\n",
    "\n",
    "Now `plt` has many differnent types of plots inside. One we will use a lot to plot two things against one another is `plt.scatter(x, y)`, where x and y are the two variables we want to look at. Let's try this using the windspeed and wave hight that are in our dataframe. The windspeed column is `df['wspd']` and waveheight is `df['wvht']`. \n",
    "\n",
    "Import `matplotlib.pyplot` as described above, then use `plt.scatter(x, y)` where you insert the wavehight column for y and windspeed for x. \n",
    "\n",
    "One more thing: we need to always label our axis!!!! we can do this from matplotlib using `plt.xlabel(' the x axis label')` and `plt.xlabel(' the y axis label')`. Make sure to add the correct labels to your scatter plot. \n",
    "\n",
    "In a comment take a guess about what the rough shape of the scattered data points in the plot mean about the ocean (about wind and waves)"
   ]
  },
  {
   "cell_type": "code",
   "execution_count": null,
   "metadata": {},
   "outputs": [],
   "source": [
    "## answer here, don't forget to import matplotlib.pyplot!\n",
    "\n"
   ]
  },
  {
   "cell_type": "code",
   "execution_count": null,
   "metadata": {},
   "outputs": [],
   "source": []
  }
 ],
 "metadata": {
  "kernelspec": {
   "display_name": "Python 3 (ipykernel)",
   "language": "python",
   "name": "python3"
  },
  "language_info": {
   "codemirror_mode": {
    "name": "ipython",
    "version": 3
   },
   "file_extension": ".py",
   "mimetype": "text/x-python",
   "name": "python",
   "nbconvert_exporter": "python",
   "pygments_lexer": "ipython3",
   "version": "3.11.4"
  }
 },
 "nbformat": 4,
 "nbformat_minor": 4
}

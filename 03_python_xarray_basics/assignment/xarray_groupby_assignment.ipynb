{
 "cells": [
  {
   "cell_type": "markdown",
   "metadata": {},
   "source": [
    "# Assignment: Xarray Groupby\n",
    "\n",
    "\n",
    "Here will will calculate the NINO 3.4 index of El Nino variabillity \n",
    "\n",
    "This page from NOAA tells you a bit about the NINO 3.4 index [this page from NOAA](https://www.ncdc.noaa.gov/teleconnections/enso/indicators/sst). It tells you the following.\n",
    "\n",
    "- The Nino 3.4 region is defined as the region between +/- 5 deg. lat, 170 W - 120 W lon.\n",
    "- Warm or cold phases of the Oceanic Nino Index are defined by a five consecutive 3-month running mean of sea surface temperature (SST) anomalies in the Niño 3.4 region that is above (below) the threshold of +0.5°C (-0.5°C). This is known as the Oceanic Niño Index (ONI).\n",
    "\n",
    "(Note that \"anomaly\" means that the seasonal cycle is removed.)\n",
    "\n",
    "\n",
    "###  Reproduce the SST curve from the figure below\n",
    "\n",
    "Use the NOAA ERSST v5 data  we worked with in class. (The OPeNDAP url is <'http://www.esrl.noaa.gov/psd/thredds/dodsC/Datasets/noaa.ersst.v5/sst.mnmean.nc'>.)\n",
    "\n",
    "You don't have to match the stylistic details, just the \"3mth running mean\" curve.\n",
    "\n",
    "### credit \n",
    "\n",
    "This lesson is from  Abernathy's book: (https://earth-env-data-science.github.io/lectures/xarray/xarray_intro.html). \n",
    "\n"
   ]
  },
  {
   "cell_type": "markdown",
   "metadata": {},
   "source": [
    "![enso](https://www.ncdc.noaa.gov/monitoring-content/teleconnections/eln-f-pg.gif)"
   ]
  },
  {
   "cell_type": "markdown",
   "metadata": {
    "collapsed": true,
    "jupyter": {
     "outputs_hidden": true
    }
   },
   "source": [
    "# load in your dataset"
   ]
  },
  {
   "cell_type": "code",
   "execution_count": null,
   "metadata": {},
   "outputs": [],
   "source": [
    "# do our imports\n",
    "\n"
   ]
  },
  {
   "cell_type": "markdown",
   "metadata": {},
   "source": [
    "# Select just the NINO 3.4 region defined above\n",
    "create a `nino_ds`\n",
    "\n",
    "select only 1950 to 2020\n",
    "\n",
    "note: when you select the lats, the order is backwards, so use `(5,-5)`\n",
    "\n",
    "note2: the lats here are in degrees east, and the nino3.4 region def is in degrees W. to convert you need to take 360-170, and 360-120, i.e. (190, 240)"
   ]
  },
  {
   "cell_type": "code",
   "execution_count": null,
   "metadata": {},
   "outputs": [],
   "source": []
  },
  {
   "cell_type": "markdown",
   "metadata": {},
   "source": [
    "# create anomalies by removing the monthly mean\n",
    "\n",
    "check the code in the `03_xarray_netcdf` notebook for a reminder how to remove the monthly mean. hint: it involves `groupby`\n",
    "\n",
    "create a `nino_ds_anom` variable for your anomalies"
   ]
  },
  {
   "cell_type": "code",
   "execution_count": null,
   "metadata": {},
   "outputs": [],
   "source": []
  },
  {
   "cell_type": "markdown",
   "metadata": {},
   "source": [
    "# plot the timeseries of the regional anomaly\n",
    "average over the lat and lon range of the NINO3.4 region\n",
    "plot the resulting timeseries\n"
   ]
  },
  {
   "cell_type": "code",
   "execution_count": null,
   "metadata": {},
   "outputs": [],
   "source": []
  },
  {
   "cell_type": "markdown",
   "metadata": {},
   "source": [
    "# get a 3 month rolling mean\n",
    "\n",
    "xarray has a function called 'rolling' that allows you to take a rolling mean. it takes arguments indicating which dim to take the mean over, and how many steps to include in the window. \n",
    "\n",
    "The following code woudl take a 12 month rolling mean of our dataset.\n",
    "\n",
    "```python\n",
    "ds_rolling = ds.rolling(time=12, center=True).mean()\n",
    "ds_rolling\n",
    "```\n",
    "\n",
    "\n",
    "the NINO3.4 index is a 3 month rolling mean of the anomalies. create that an plot. compare your results to the official NOAA figure in the intro"
   ]
  },
  {
   "cell_type": "code",
   "execution_count": null,
   "metadata": {},
   "outputs": [],
   "source": []
  },
  {
   "cell_type": "code",
   "execution_count": null,
   "metadata": {},
   "outputs": [],
   "source": []
  }
 ],
 "metadata": {
  "kernelspec": {
   "display_name": "Python 3 (ipykernel)",
   "language": "python",
   "name": "python3"
  },
  "language_info": {
   "codemirror_mode": {
    "name": "ipython",
    "version": 3
   },
   "file_extension": ".py",
   "mimetype": "text/x-python",
   "name": "python",
   "nbconvert_exporter": "python",
   "pygments_lexer": "ipython3",
   "version": "3.11.4"
  }
 },
 "nbformat": 4,
 "nbformat_minor": 4
}

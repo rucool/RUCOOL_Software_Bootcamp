{
 "cells": [
  {
   "cell_type": "markdown",
   "metadata": {},
   "source": [
    "# Assignment: Making Maps with Cartopy\n",
    "\n",
    "## 1. Global USGS Earthquakes\n",
    "\n",
    "Load the earthquake file we explored using pandas\n",
    "\n",
    "    http://www.ldeo.columbia.edu/~rpa/usgs_earthquakes_2014.csv\n",
    "    \n",
    "and use the data to recreate this map.\n",
    "\n",
    "hints:\n",
    "1. `pd.read_csv( parse_dates= , index_col=)`, \n",
    "1. `nlargest()` can take two arguments: n (the number of largest things you want), and 'acolumn' (the column you want to sort by)\n",
    "1. `ccrs.Robinson?` to see some relevant options\n",
    "1. scatter has many options to control the look of dots, some useful ones might be `cmap = `, and `edgecolor = `\n",
    "1. the colormap is called 'Reds'"
   ]
  },
  {
   "cell_type": "markdown",
   "metadata": {},
   "source": [
    "![earthquake_map](./earthquake_map.png)"
   ]
  },
  {
   "cell_type": "code",
   "execution_count": null,
   "metadata": {},
   "outputs": [],
   "source": [
    "# import pandas, etc.\n",
    "\n"
   ]
  },
  {
   "cell_type": "code",
   "execution_count": null,
   "metadata": {},
   "outputs": [],
   "source": [
    "# load the data\n",
    "\n",
    "url = 'http://www.ldeo.columbia.edu/~rpa/usgs_earthquakes_2014.csv'\n",
    "df = pd.read_csv(url, parse_dates=['time'], index_col='time')\n",
    "\n",
    "df.head()"
   ]
  },
  {
   "cell_type": "code",
   "execution_count": null,
   "metadata": {},
   "outputs": [],
   "source": [
    "# create a new dataframe with the 50 largest earthquakes\n"
   ]
  },
  {
   "cell_type": "code",
   "execution_count": null,
   "metadata": {},
   "outputs": [],
   "source": [
    "# check out the options for the Robinson projection\n"
   ]
  },
  {
   "cell_type": "code",
   "execution_count": null,
   "metadata": {},
   "outputs": [],
   "source": [
    "# make your map\n"
   ]
  },
  {
   "cell_type": "markdown",
   "metadata": {
    "tags": []
   },
   "source": [
    "## 2. SST and Sea Ice thickness\n",
    "\n",
    "A daily 1/4 degree SST and Sea ice product is available from NOAA:\n",
    "https://www.ncdc.noaa.gov/oisst\n",
    "\n",
    "Using the link to their THREDDS data server:\n",
    "```python\n",
    "url = 'https://www.ncei.noaa.gov/thredds/dodsC/OisstBase/NetCDF/V2.1/AVHRR/201912/oisst-avhrr-v02r01.20191201.nc'\n",
    "```\n",
    "\n",
    "and the tools you know, try to recreate the following figure:\n",
    "\n",
    "![sst_seaice.png](./sst_seaice.png)\n"
   ]
  },
  {
   "cell_type": "code",
   "execution_count": null,
   "metadata": {},
   "outputs": [],
   "source": [
    "# imports \n"
   ]
  },
  {
   "cell_type": "code",
   "execution_count": null,
   "metadata": {},
   "outputs": [],
   "source": [
    "# open the dataset\n",
    "url = 'https://www.ncei.noaa.gov/thredds/dodsC/OisstBase/NetCDF/V2.1/AVHRR/201912/oisst-avhrr-v02r01.20191201.nc'\n",
    "ds = xr.open_dataset(url)\n",
    "ds"
   ]
  },
  {
   "cell_type": "code",
   "execution_count": null,
   "metadata": {},
   "outputs": [],
   "source": [
    "# build the figure\n",
    "\n",
    "fig = plt.figure(figsize=(12,6))\n",
    "\n",
    "ax1 = fig.add_subplot(1 , 2, 1, ___)\n",
    "\n",
    "ds.sst.plot(___)\n",
    "\n",
    "ax2 = fig.add_subplot(1 , 2, 2, ____)\n"
   ]
  }
 ],
 "metadata": {
  "kernelspec": {
   "display_name": "Python 3",
   "language": "python",
   "name": "python3"
  },
  "language_info": {
   "codemirror_mode": {
    "name": "ipython",
    "version": 3
   },
   "file_extension": ".py",
   "mimetype": "text/x-python",
   "name": "python",
   "nbconvert_exporter": "python",
   "pygments_lexer": "ipython3",
   "version": "3.8.11"
  }
 },
 "nbformat": 4,
 "nbformat_minor": 4
}

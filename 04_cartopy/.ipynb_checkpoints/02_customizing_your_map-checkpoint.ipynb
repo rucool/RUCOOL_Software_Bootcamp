{
 "cells": [
  {
   "cell_type": "markdown",
   "metadata": {},
   "source": [
    "# Customizing maps\n",
    "\n",
    "We've seen how to create simple global maps, and taken a look at some of the different projections Cartopy has to offer. \n",
    "\n",
    "But we might want to customize these maps for our purposes. Let's start looking at ways to customize"
   ]
  },
  {
   "cell_type": "code",
   "execution_count": 1,
   "metadata": {},
   "outputs": [],
   "source": [
    "# import statements\n",
    "\n",
    "import cartopy.crs as ccrs\n",
    "import cartopy\n",
    "\n",
    "import matplotlib.pyplot as plt\n",
    "\n",
    "%matplotlib inline"
   ]
  },
  {
   "cell_type": "markdown",
   "metadata": {},
   "source": [
    "# zooming in on a region\n",
    "\n",
    "We are each probably interested in a particular part of the world. \n",
    "\n",
    "To customize our map we will want to use the`set_extent` method/function of Cartopy to do this. \n",
    "\n",
    "How does it work? first create a geoaxis"
   ]
  },
  {
   "cell_type": "code",
   "execution_count": 6,
   "metadata": {},
   "outputs": [
    {
     "data": {
      "image/png": "[encoded data removed]",
      "text/plain": [
       "<Figure size 432x288 with 1 Axes>"
      ]
     },
     "metadata": {
      "needs_background": "light"
     },
     "output_type": "display_data"
    }
   ],
   "source": [
    "plt.figure()\n",
    "ax = plt.axes(projection=ccrs.PlateCarree())\n",
    "\n"
   ]
  },
  {
   "cell_type": "code",
   "execution_count": 7,
   "metadata": {},
   "outputs": [
    {
     "data": {
      "text/plain": [
       "\u001b[0;31mSignature:\u001b[0m \u001b[0max\u001b[0m\u001b[0;34m.\u001b[0m\u001b[0mset_extent\u001b[0m\u001b[0;34m(\u001b[0m\u001b[0mextents\u001b[0m\u001b[0;34m,\u001b[0m \u001b[0mcrs\u001b[0m\u001b[0;34m=\u001b[0m\u001b[0;32mNone\u001b[0m\u001b[0;34m)\u001b[0m\u001b[0;34m\u001b[0m\u001b[0;34m\u001b[0m\u001b[0m\n",
       "\u001b[0;31mDocstring:\u001b[0m\n",
       "Set the extent (x0, x1, y0, y1) of the map in the given\n",
       "coordinate system.\n",
       "\n",
       "If no crs is given, the extents' coordinate system will be assumed\n",
       "to be the Geodetic version of this axes' projection.\n",
       "\n",
       "Parameters\n",
       "----------\n",
       "extent\n",
       "    Tuple of floats representing the required extent (x0, x1, y0, y1).\n",
       "\u001b[0;31mFile:\u001b[0m      ~/anaconda3/lib/python3.7/site-packages/cartopy/mpl/geoaxes.py\n",
       "\u001b[0;31mType:\u001b[0m      method\n"
      ]
     },
     "metadata": {},
     "output_type": "display_data"
    }
   ],
   "source": [
    "ax.set_extent?"
   ]
  },
  {
   "cell_type": "markdown",
   "metadata": {},
   "source": [
    "Let's make a map of our area:"
   ]
  },
  {
   "cell_type": "code",
   "execution_count": 13,
   "metadata": {},
   "outputs": [
    {
     "data": {
      "text/plain": [
       "<cartopy.mpl.feature_artist.FeatureArtist at 0x118594f28>"
      ]
     },
     "execution_count": 13,
     "metadata": {},
     "output_type": "execute_result"
    },
    {
     "data": {
      "image/png": "[encoded data removed]",
      "text/plain": [
       "<Figure size 432x288 with 1 Axes>"
      ]
     },
     "metadata": {
      "needs_background": "light"
     },
     "output_type": "display_data"
    }
   ],
   "source": [
    "\n",
    "extent = [-77, -70, 35, 43]\n",
    "ax = plt.axes(projection=ccrs.PlateCarree())\n",
    "ax.set_extent(extent)\n",
    "ax.gridlines()\n",
    "ax.coastlines()"
   ]
  },
  {
   "cell_type": "markdown",
   "metadata": {},
   "source": [
    "Pretty ugly. This sort of seems right, but it'd be easier to tell with higher resolution coastlines. Check out the documentation for `coastlines` , turns out we can ask for higher resolution"
   ]
  },
  {
   "cell_type": "code",
   "execution_count": 14,
   "metadata": {},
   "outputs": [
    {
     "data": {
      "text/plain": [
       "\u001b[0;31mSignature:\u001b[0m \u001b[0max\u001b[0m\u001b[0;34m.\u001b[0m\u001b[0mcoastlines\u001b[0m\u001b[0;34m(\u001b[0m\u001b[0mresolution\u001b[0m\u001b[0;34m=\u001b[0m\u001b[0;34m'110m'\u001b[0m\u001b[0;34m,\u001b[0m \u001b[0mcolor\u001b[0m\u001b[0;34m=\u001b[0m\u001b[0;34m'black'\u001b[0m\u001b[0;34m,\u001b[0m \u001b[0;34m**\u001b[0m\u001b[0mkwargs\u001b[0m\u001b[0;34m)\u001b[0m\u001b[0;34m\u001b[0m\u001b[0;34m\u001b[0m\u001b[0m\n",
       "\u001b[0;31mDocstring:\u001b[0m\n",
       "Add coastal **outlines** to the current axes from the Natural Earth\n",
       "\"coastline\" shapefile collection.\n",
       "\n",
       "Parameters\n",
       "----------\n",
       "resolution\n",
       "    A named resolution to use from the Natural Earth\n",
       "    dataset. Currently can be one of \"110m\", \"50m\", and \"10m\",\n",
       "    or a Scaler object.\n",
       "\u001b[0;31mFile:\u001b[0m      ~/anaconda3/lib/python3.7/site-packages/cartopy/mpl/geoaxes.py\n",
       "\u001b[0;31mType:\u001b[0m      method\n"
      ]
     },
     "metadata": {},
     "output_type": "display_data"
    }
   ],
   "source": [
    "ax.coastlines?"
   ]
  },
  {
   "cell_type": "code",
   "execution_count": 15,
   "metadata": {},
   "outputs": [
    {
     "data": {
      "text/plain": [
       "<cartopy.mpl.feature_artist.FeatureArtist at 0xb1b7477f0>"
      ]
     },
     "execution_count": 15,
     "metadata": {},
     "output_type": "execute_result"
    },
    {
     "name": "stderr",
     "output_type": "stream",
     "text": [
      "/Users/beaird/anaconda3/lib/python3.7/site-packages/cartopy/io/__init__.py:260: DownloadWarning: Downloading: http://naciscdn.org/naturalearth/50m/physical/ne_50m_coastline.zip\n",
      "  warnings.warn('Downloading: {}'.format(url), DownloadWarning)\n"
     ]
    },
    {
     "data": {
      "image/png": "[encoded data removed]",
      "text/plain": [
       "<Figure size 432x288 with 1 Axes>"
      ]
     },
     "metadata": {
      "needs_background": "light"
     },
     "output_type": "display_data"
    }
   ],
   "source": [
    "extent = [-77, -70, 35, 43]\n",
    "ax = plt.axes(projection=ccrs.PlateCarree())\n",
    "ax.set_extent(extent)\n",
    "ax.gridlines()\n",
    "ax.coastlines(resolution='50m')"
   ]
  },
  {
   "cell_type": "markdown",
   "metadata": {},
   "source": [
    "That's better. Probably the package downloaded something and gave you a warning about it (I hope). \n",
    "\n",
    "\n",
    "# Adding Features to the Map\n",
    "To give our map more styles and details, we add cartopy.feature objects. Many useful features are built in. These \"default features\" are at coarse (110m) resolution.\n",
    "\n",
    "- cartopy.feature.BORDERS\tCountry boundaries\n",
    "- cartopy.feature.COASTLINE\tCoastline, including major islands\n",
    "- cartopy.feature.LAKES\tNatural and artificial lakes\n",
    "- cartopy.feature.LAND\tLand polygons, including major islands\n",
    "- cartopy.feature.OCEAN\tOcean polygons\n",
    "- cartopy.feature.RIVERS\tSingle-line drainages, including lake centerlines\n",
    "- cartopy.feature.STATES\t(limited to the United States at this scale)\n",
    "\n",
    "to do this, we need to import the cartopy.feature"
   ]
  },
  {
   "cell_type": "code",
   "execution_count": 19,
   "metadata": {},
   "outputs": [
    {
     "data": {
      "text/plain": [
       "<cartopy.mpl.gridliner.Gridliner at 0xb1aa4a2b0>"
      ]
     },
     "execution_count": 19,
     "metadata": {},
     "output_type": "execute_result"
    },
    {
     "data": {
      "image/png": "[encoded data removed]",
      "text/plain": [
       "<Figure size 432x288 with 1 Axes>"
      ]
     },
     "metadata": {
      "needs_background": "light"
     },
     "output_type": "display_data"
    }
   ],
   "source": [
    "import cartopy.feature as cfeature\n",
    "\n",
    "\n",
    "extent = [-77, -70, 35, 43]\n",
    "ax = plt.axes(projection=ccrs.Mercator())\n",
    "ax.set_extent(extent)\n",
    "ax.gridlines()\n",
    "ax.coastlines(resolution='50m')\n",
    "\n",
    "ax.add_feature(cartopy.feature.OCEAN)\n",
    "ax.add_feature(cartopy.feature.LAND, edgecolor='black')\n",
    "ax.add_feature(cartopy.feature.STATES, edgecolor='black')\n",
    "\n",
    "ax.gridlines()"
   ]
  },
  {
   "cell_type": "markdown",
   "metadata": {},
   "source": [
    "# your turn\n",
    "\n",
    "Pick a place on the globe and make a map of it. Play with the features, resolution, background images, whatever. Everybody chose a differnet place and make some maps to make sure you understand this process"
   ]
  },
  {
   "cell_type": "code",
   "execution_count": null,
   "metadata": {},
   "outputs": [],
   "source": []
  }
 ],
 "metadata": {
  "kernelspec": {
   "display_name": "Python 3",
   "language": "python",
   "name": "python3"
  },
  "language_info": {
   "codemirror_mode": {
    "name": "ipython",
    "version": 3
   },
   "file_extension": ".py",
   "mimetype": "text/x-python",
   "name": "python",
   "nbconvert_exporter": "python",
   "pygments_lexer": "ipython3",
   "version": "3.7.3"
  }
 },
 "nbformat": 4,
 "nbformat_minor": 2
}

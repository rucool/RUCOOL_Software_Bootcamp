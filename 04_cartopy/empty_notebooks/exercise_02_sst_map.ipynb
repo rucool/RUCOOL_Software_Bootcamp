{
 "cells": [
  {
   "cell_type": "markdown",
   "id": "e20f291d-ff6d-4d20-9db8-ef16da08da2d",
   "metadata": {},
   "source": [
    "# Excercise 02\n",
    "\n",
    "## 1. Southern Ocean\n",
    "\n",
    "Remake the map we just made but instead focus on the Southern Ocean.\n",
    "\n",
    "Change the map projection to `ccrs.Orthographic(__,__)` and make plot so that the South Pole is in the center of the map."
   ]
  },
  {
   "cell_type": "code",
   "execution_count": 2,
   "id": "b8e527cf-09c5-448f-8e91-9e9e482122f1",
   "metadata": {
    "tags": []
   },
   "outputs": [],
   "source": [
    "import xarray as xr\n",
    "import cartopy.crs as ccrs\n",
    "import matplotlib.pyplot as plt\n",
    "\n",
    "%matplotlib inline"
   ]
  },
  {
   "cell_type": "code",
   "execution_count": 3,
   "id": "eaf17b31-3923-4961-940d-9a7a32bbabaa",
   "metadata": {},
   "outputs": [],
   "source": [
    "url = 'http://www.esrl.noaa.gov/psd/thredds/dodsC/Datasets/noaa.ersst.v5/sst.mnmean.nc'\n",
    "ds = xr.open_dataset(url, drop_variables=['time_bnds'])\n",
    "\n",
    "sst = ds.sst.sel(time='2000-01-01', method='nearest')"
   ]
  },
  {
   "cell_type": "code",
   "execution_count": 4,
   "id": "76ba6782-92e9-4b4d-ae7c-4a6e711cbf25",
   "metadata": {},
   "outputs": [],
   "source": [
    "# make figure\n",
    "\n",
    "\n"
   ]
  },
  {
   "cell_type": "markdown",
   "id": "0afbd2dc-03ee-4018-999a-f75a126ee37e",
   "metadata": {},
   "source": [
    "## 2. Chlorophyll off MAB\n",
    "\n",
    "Remake the map of chlorophyll that we looked at before using Mercator projection. Make sure to plot the log of chlorophyll as ```np.log10(___)``` and this means we need to load numpy, too.\n",
    "\n"
   ]
  },
  {
   "cell_type": "code",
   "execution_count": 25,
   "id": "b521093b-3157-4855-b529-c56456166666",
   "metadata": {},
   "outputs": [],
   "source": [
    "import numpy as np\n",
    "\n",
    "url = 'https://oceandata.sci.gsfc.nasa.gov:443/opendap/MODISA/L3SMI/2019/210/A2019210.L3m_DAY_CHL_chlor_a_4km.nc'\n",
    "data = xr.open_dataset(url)\n",
    "\n",
    "data_mab_nj = data.sel( lat=slice(41, 38), lon=slice(-76,-71))"
   ]
  },
  {
   "cell_type": "code",
   "execution_count": 1,
   "id": "22835f8e-1d96-44f2-813c-df2bc138a3df",
   "metadata": {},
   "outputs": [],
   "source": [
    "# make figure\n",
    "\n"
   ]
  },
  {
   "cell_type": "code",
   "execution_count": null,
   "id": "ae4fc25c-9ee0-4f09-800e-94a49aef26a4",
   "metadata": {},
   "outputs": [],
   "source": []
  }
 ],
 "metadata": {
  "kernelspec": {
   "display_name": "Python 3",
   "language": "python",
   "name": "python3"
  },
  "language_info": {
   "codemirror_mode": {
    "name": "ipython",
    "version": 3
   },
   "file_extension": ".py",
   "mimetype": "text/x-python",
   "name": "python",
   "nbconvert_exporter": "python",
   "pygments_lexer": "ipython3",
   "version": "3.8.11"
  }
 },
 "nbformat": 4,
 "nbformat_minor": 5
}

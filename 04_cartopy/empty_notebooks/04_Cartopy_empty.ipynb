{
 "cells": [
  {
   "cell_type": "markdown",
   "metadata": {},
   "source": [
    "# Making maps for science in python\n",
    "\n",
    "\n",
    "We are all working in a field science, and displying our data in geographic context is essential. No matter what the specific nature of your research, **you will need to make some maps!**\n",
    "\n",
    "Python has some nice packages for mapmaking. The one we will learn today is [Cartopy](https://scitools.org.uk/cartopy/docs/latest/). If you poke around you will see that many people use a package called Basemap. This works well, but is not going to continue to be developed, and will be replaced by Cartopy. \n",
    "\n",
    "### What is a map?\n",
    "\n",
    "Dumb question? We all know what maps are, but there are some important features of a map that make them different from the standard figures we make.\n",
    "\n",
    "Maps are (almost always) a two-dimensional representation of our 3-dimensional word. We need to take data that is spread around on a roundish ball, and show it accurately on something flat, usually a computer screen or a piece of paper. \n",
    "\n",
    "It turns out that representing a 3D object in 2D space is complicated. Making accurate maps that show what you want can be very complicated. We are going to go through some of the basics here and try to understand enough to make some standard maps, and understand enough to know what else we might need to know to dive deeper.\n",
    "\n",
    "\n",
    "### credit\n",
    "As always, lots of this lesson is based on Ryan Abernathy's course: https://rabernat.github.io/research_computing_2018/maps-with-cartopy.html. Parts too are from the person who wrote the Cartopy package, [Phil Elson](https://pelson.github.io/) , tutorial here: https://github.com/SciTools/cartopy-tutorial/tree/42cb77062a08063a53e7a511a9681bdb15e70fe7. \n",
    "\n",
    "\n",
    "\n",
    "# Map Projections: transforming from spherical to flat\n",
    "\n",
    "\n",
    "- The surface of a sphere is fundementally different from a 2D surface, therefore we have to cut the sphere somewhere to 'make it flat' (see: orange)\n",
    "- a map projection is the method we use to 'flatten' the sphere. There are lots of choices, but\n",
    "- A sphere's surface cannot be represented on a plane without distortion.\n",
    "\n",
    "<img src=\"https://github.com/SciTools/cartopy-tutorial/raw/42cb77062a08063a53e7a511a9681bdb15e70fe7/static/orange_peel.jpg\">\n",
    "\n",
    "\n",
    "\n",
    "## Common distortions of map projections\n",
    "Metric properties of maps that are often not preserved:\n",
    "\n",
    "- Area\n",
    "- Shape\n",
    "- Direction\n",
    "- Distance\n",
    "- Scale\n",
    "\n",
    "It's important to remember that all maps have some sort of distortion! The figure below show a map where we have drawn equal-area circles at a bunch of diffent points on the earth. \n",
    "\n",
    "<img src=\"https://github.com/SciTools/cartopy-tutorial/raw/42cb77062a08063a53e7a511a9681bdb15e70fe7/appendix/maps/tissot.platecarree.1000km.png\">\n",
    "\n",
    "A detailed discussion of the basic different types of map projections is included in [Phil Elisons tutorial](https://github.com/SciTools/cartopy-tutorial/blob/42cb77062a08063a53e7a511a9681bdb15e70fe7/tutorial/projections_crs_and_terms.ipynb). It's a good resource if you ever find yourself with a headache thinking about map projections. \n",
    "\n",
    "\n",
    "# Cartopy \n",
    "\n",
    "https://scitools.org.uk/cartopy/docs/latest/\n",
    "\n",
    "Cartopy is a Python package designed for geospatial data processing in order to produce maps and other geospatial data analyses.\n",
    "\n",
    "We will install Cartopy from the terminal they same way we did for xarray:\n",
    "\n",
    "```bash\n",
    "$ conda install -c conda-forge cartopy\n",
    "```\n",
    "\n",
    "Cartopy makes use of the powerful PROJ.4, NumPy and Shapely libraries and includes a programmatic interface built on top of Matplotlib for the creation of publication quality maps.\n",
    "\n",
    "# Cartopy Projection sytems\n",
    "\n",
    "The key ingredient of making a map is defining the projection, ie the instructions to 'flatten' the world.\n",
    "\n",
    "Cartopy is going to give us the projection, so we need to load the library that contains it. \n",
    "\n",
    "We need cartopy's crs module. This is typically imported as ccrs (Cartopy Coordinate Reference Systems).\n"
   ]
  },
  {
   "cell_type": "code",
   "execution_count": null,
   "metadata": {
    "tags": []
   },
   "outputs": [],
   "source": []
  },
  {
   "cell_type": "markdown",
   "metadata": {
    "tags": []
   },
   "source": [
    "# Drawing a map\n",
    "\n",
    "Like many other things in Python, Cartopy is built to work well with another library, namely Matplotlib for plotting. \n",
    "\n",
    "Let's check this out. I'm going to create a figure with matplotlib, then I'm going to tell the axes that we want to use a cartopy projection. In this case I'm going to use the Plate Carree projection (also known as Equirectangular projection)\n",
    "\n",
    "The basic steps here are the same as making any matplotlib figure, but the special sauce is that we need to tell matplotlib that we want the figure axes to have a projection, or instructions to represent the sphere in 2D. To do that we use the `projection=ccrs.PlateCarree()` option for argument in `plt.axes()`\n"
   ]
  },
  {
   "cell_type": "code",
   "execution_count": null,
   "metadata": {},
   "outputs": [],
   "source": []
  },
  {
   "cell_type": "markdown",
   "metadata": {},
   "source": [
    "ok, that didn't do very much that was interesting, but it did create a figure. And if you look the text that got spit out we see that the axes of figure is one of those GeoAxes[Subplot] instances - this is telling us that rather than a regular matplotlib figure, this is a map that knows something about the projection. \n",
    "\n",
    "#### Now this figure axes (`ax`) is a Cartopy thing (object). \n",
    "And because of that `ax` has all the features of the Cartopy library. Now we can start doing some things to make the map look like a real map. \n",
    "\n",
    "A simple cartopy feature is called `coastlines` which, you guessed it, adds coastlines to whatever map axes we made:\n",
    "\n"
   ]
  },
  {
   "cell_type": "code",
   "execution_count": null,
   "metadata": {},
   "outputs": [],
   "source": []
  },
  {
   "cell_type": "markdown",
   "metadata": {},
   "source": [
    "Projection classes have options we can use to customize the map. We can read about them by googling the cartopy docs, or by running the projection with a `?` or SHIFT+TAB"
   ]
  },
  {
   "cell_type": "code",
   "execution_count": null,
   "metadata": {},
   "outputs": [],
   "source": []
  },
  {
   "cell_type": "markdown",
   "metadata": {},
   "source": [
    "Looks like we can change the central longitude of the map. and add coastlines:\n",
    "```python\n",
    "\n",
    "plt.figure()\n",
    "ax = plt.axes(projection=ccrs.PlateCarree(____=180))\n",
    "ax.____()\n",
    "```\n",
    "\n"
   ]
  },
  {
   "cell_type": "code",
   "execution_count": null,
   "metadata": {},
   "outputs": [],
   "source": []
  },
  {
   "cell_type": "markdown",
   "metadata": {},
   "source": [
    "# Useful methods of a GeoAxes\n",
    "The cartopy.mpl.geoaxes.GeoAxes class adds a number of useful methods.\n",
    "\n",
    "Let's take a look at:\n",
    "\n",
    "- `set_global` - zoom the map out as much as possible\n",
    "- `set_extent` - zoom the map to the given bounding box\n",
    "- `gridlines` - add a graticule (and optionally labels) to the axes\n",
    "- `coastlines` - add Natural Earth coastlines to the axes\n",
    "- `stock_img` - add a low-resolution Natural Earth background image to the axes\n",
    "- `imshow` - add an image (numpy array) to the axes\n",
    "- `add_geometries` - add a collection of geometries (Shapely) to the axes\n",
    "\n",
    "Let's try using `ax.gridlines()` here:"
   ]
  },
  {
   "cell_type": "code",
   "execution_count": null,
   "metadata": {},
   "outputs": [],
   "source": []
  },
  {
   "cell_type": "markdown",
   "metadata": {},
   "source": [
    "What about `ax.stock_img()`?"
   ]
  },
  {
   "cell_type": "code",
   "execution_count": null,
   "metadata": {
    "tags": []
   },
   "outputs": [],
   "source": []
  },
  {
   "cell_type": "markdown",
   "metadata": {
    "tags": []
   },
   "source": [
    "# More examples of Cartopy projections\n",
    "\n",
    "\n",
    "let's loop through a few projections and look at different maps. We will make a list of projections, then fill in the blanks below to loop through it and create figures:\n",
    "\n",
    "```python\n",
    "for proj in ____:\n",
    "    plt.figure()\n",
    "    ax = plt.axes(projection=___)\n",
    "    ax.stock_img()\n",
    "    ax.coastlines()\n",
    "    ax.set_title(f'projection={type(proj)}')\n",
    "\n",
    "```"
   ]
  },
  {
   "cell_type": "code",
   "execution_count": null,
   "metadata": {},
   "outputs": [],
   "source": [
    "projections5 = [ccrs.PlateCarree(),\n",
    "               ccrs.Robinson(),\n",
    "               ccrs.Mercator(),\n",
    "               ccrs.Orthographic(),\n",
    "               ccrs.InterruptedGoodeHomolosine()\n",
    "              ]\n",
    "\n",
    "    "
   ]
  },
  {
   "cell_type": "code",
   "execution_count": null,
   "metadata": {},
   "outputs": [],
   "source": []
  },
  {
   "cell_type": "markdown",
   "metadata": {},
   "source": [
    "# Customizing maps\n",
    "\n",
    "We've seen how to create simple global maps, and taken a look at some of the different projections Cartopy has to offer. But we might want to customize these maps for our purposes. Let's start looking at ways to customize.\n",
    "\n",
    "### credit\n",
    "As always, lots of this lesson is based on Ryan Abernathy's course: https://rabernat.github.io/research_computing_2018/maps-with-cartopy.html. Parts too are from the person who wrote the Cartopy package, [Phil Elson](https://pelson.github.io/) , tutorial here: https://github.com/SciTools/cartopy-tutorial/tree/42cb77062a08063a53e7a511a9681bdb15e70fe7.\n"
   ]
  },
  {
   "cell_type": "code",
   "execution_count": null,
   "metadata": {},
   "outputs": [],
   "source": []
  },
  {
   "cell_type": "markdown",
   "metadata": {},
   "source": [
    "# zooming in on a region\n",
    "\n",
    "We are each probably interested in a particular part of the world. \n",
    "\n",
    "To customize our map we will want to use the`set_extent` method/function of Cartopy to do this. \n",
    "\n",
    "How does it work? first create a geoaxis\n"
   ]
  },
  {
   "cell_type": "code",
   "execution_count": null,
   "metadata": {},
   "outputs": [],
   "source": []
  },
  {
   "cell_type": "markdown",
   "metadata": {},
   "source": [
    "Use the `?` (or SHIFT+TAB) to figure out what `ax.set_extent()` does:"
   ]
  },
  {
   "cell_type": "code",
   "execution_count": null,
   "metadata": {},
   "outputs": [],
   "source": []
  },
  {
   "cell_type": "markdown",
   "metadata": {},
   "source": [
    "Let's make a map of our area, use `extent = [-77, -70, 35, 43]` with `ax.set_extent()`"
   ]
  },
  {
   "cell_type": "code",
   "execution_count": null,
   "metadata": {},
   "outputs": [],
   "source": []
  },
  {
   "cell_type": "markdown",
   "metadata": {},
   "source": [
    "This defaults to an appropriate resolution, but you can check out the documentation in `coastlines` to see how to specify higher/lower resolution in the coastline"
   ]
  },
  {
   "cell_type": "code",
   "execution_count": null,
   "metadata": {},
   "outputs": [],
   "source": []
  },
  {
   "cell_type": "markdown",
   "metadata": {},
   "source": [
    "remake the same plot but with the resolution set to 50m:"
   ]
  },
  {
   "cell_type": "code",
   "execution_count": null,
   "metadata": {},
   "outputs": [],
   "source": []
  },
  {
   "cell_type": "markdown",
   "metadata": {},
   "source": [
    "# Adding Features to the Map\n",
    "To give our map more styles and details, we add cartopy.feature objects. Many useful features are built in. These \"default features\" are at coarse (110m) resolution.\n",
    "\n",
    "- cartopy.feature.BORDERS\tCountry boundaries\n",
    "- cartopy.feature.COASTLINE\tCoastline, including major islands\n",
    "- cartopy.feature.LAKES\tNatural and artificial lakes\n",
    "- cartopy.feature.LAND\tLand polygons, including major islands\n",
    "- cartopy.feature.OCEAN\tOcean polygons\n",
    "- cartopy.feature.RIVERS\tSingle-line drainages, including lake centerlines\n",
    "- cartopy.feature.STATES\t(limited to the United States at this scale)\n",
    "\n",
    "to do this, we need to import the `cartopy.feature` part of cartopy. We ususally do this as \n",
    "\n",
    "```python\n",
    "import cartopy.feature as cfeature\n",
    "\n",
    "```\n",
    "\n",
    "Lets make the same map again, but now use the `ax.add_feature()` function to add ocean, states , and land:\n"
   ]
  },
  {
   "cell_type": "code",
   "execution_count": null,
   "metadata": {},
   "outputs": [],
   "source": []
  },
  {
   "cell_type": "markdown",
   "metadata": {},
   "source": [
    "# Exercise 01 \n",
    "\n",
    "Make a map of Africa. Include the borders between countries and major rivers. Play with other features, resolution, background images, etc. "
   ]
  },
  {
   "cell_type": "code",
   "execution_count": null,
   "metadata": {},
   "outputs": [],
   "source": [
    "import cartopy.crs as ccrs\n",
    "import cartopy.feature as cfeature\n",
    "import matplotlib.pyplot as plt\n",
    "\n",
    "%matplotlib inline"
   ]
  },
  {
   "cell_type": "code",
   "execution_count": null,
   "metadata": {},
   "outputs": [],
   "source": [
    "# make plot"
   ]
  },
  {
   "cell_type": "code",
   "execution_count": null,
   "metadata": {},
   "outputs": [],
   "source": []
  },
  {
   "cell_type": "markdown",
   "metadata": {},
   "source": [
    "# Adding data to the map\n",
    "\n",
    "Now we know how to make and customize basic maps. Great. But we want to use these maps to convey information or results, ie to display data. \n",
    "\n",
    "So how do we add data to our maps?\n",
    "\n",
    "### credit\n",
    "As always, lots of this lesson is based on Ryan Abernathy's course: https://rabernat.github.io/research_computing_2018/maps-with-cartopy.html. Parts too are from the person who wrote the Cartopy package, [Phil Elson](https://pelson.github.io/) , tutorial here: https://github.com/SciTools/cartopy-tutorial/tree/42cb77062a08063a53e7a511a9681bdb15e70fe7. \n"
   ]
  },
  {
   "cell_type": "code",
   "execution_count": null,
   "metadata": {},
   "outputs": [],
   "source": []
  },
  {
   "cell_type": "markdown",
   "metadata": {},
   "source": [
    "# Cartopy plays well with matplotlib\n",
    "\n",
    "Because our map *is* a matplotlib axis, we can use all the familiar maptplotlib plotting tools and commands to make plots. By default, the map extent will be adjusted to match the data. We can override this with the `.set_global` or `.set_extent` commands."
   ]
  },
  {
   "cell_type": "code",
   "execution_count": null,
   "metadata": {},
   "outputs": [],
   "source": [
    "# create some test data\n",
    "new_york_lon = -74.0060\n",
    "new_york_lat = 40.7128\n",
    "honolulu_lon = -157.8583\n",
    "honolulu_lat = 21.3069\n",
    "\n"
   ]
  },
  {
   "cell_type": "markdown",
   "metadata": {},
   "source": [
    "# Key point: \n",
    "The data *ALSO* have to be transformed to the projection space. This is done via the `transform=` keyword in the plotting method. The argument is another `cartopy.crs` object. If you don't specify a transform, Cartopy assume that the data is using the same projection as the underlying GeoAxis.\n",
    "\n",
    "> ### From the Cartopy Documentation:\n",
    "\n",
    "> The core concept is that the projection of your axes is independent of the coordinate system your data is defined in. The `projection` argument is used when creating plots and determines the projection of the resulting plot (i.e. what the plot looks like). The `transform` argument to plotting functions tells Cartopy what coordinate system your data are defined in.\n",
    "\n",
    "\n",
    "\n",
    "```python\n",
    "ax = plt.axes(___=ccrs.PlateCarree())\n",
    "ax.plot(lons, lats, label='Equirectangular straight line')\n",
    "ax.plot(lons, lats, label='Great Circle', ___=ccrs.Geodetic())\n",
    "ax.coastlines()\n",
    "ax.legend()\n",
    "ax.set_global()\n",
    "\n",
    "```"
   ]
  },
  {
   "cell_type": "code",
   "execution_count": null,
   "metadata": {},
   "outputs": [],
   "source": []
  },
  {
   "cell_type": "markdown",
   "metadata": {},
   "source": [
    "## deconstruct the plot above\n",
    "\n",
    "First, we just used a normal matplotlib `.plot()` command to plot our lat an lon data. This is actually just the normal command, its nothing special from Cartopy. In the first case we didn't add the `transform=` argument, so the map assumed that the data are already in the map projection (what is the map projection here?). \n",
    "\n",
    "In the second case we told the plotting function that the original data we want to plot (`lon`, `lat`) are in `ccrs.Geodetic()` projection, so it then transformed them into the defined map projection. \n"
   ]
  },
  {
   "cell_type": "markdown",
   "metadata": {},
   "source": [
    "# Plotting 2D (Raster) Data\n",
    "\n",
    "The same principles apply to 2D data. Below we create some fake example data defined in regular lat / lon coordinates.\n",
    "\n",
    "When we plot this there is no projection, just good old standard matplotlib.\n",
    "\n"
   ]
  },
  {
   "cell_type": "code",
   "execution_count": null,
   "metadata": {},
   "outputs": [],
   "source": []
  },
  {
   "cell_type": "markdown",
   "metadata": {},
   "source": [
    "Now we create a `PlateCarree` projection and plot the data on it without any `transform` keyword. This happens to work because `PlateCarree` is the simplest projection of lat / lon data.\n",
    "\n",
    "\n",
    "```python\n",
    "ax = plt.axes(___=ccrs.PlateCarree())\n",
    "ax.set_global()\n",
    "ax.coastlines()\n",
    "ax.contourf(lon, lat, data)\n",
    "```"
   ]
  },
  {
   "cell_type": "code",
   "execution_count": null,
   "metadata": {},
   "outputs": [],
   "source": []
  },
  {
   "cell_type": "markdown",
   "metadata": {},
   "source": [
    "However, if we try the same thing with a different projection, we get the wrong result.\n",
    "\n",
    "\n",
    "```python\n",
    "projct = ccrs.RotatedPole(pole_longitude=-177.5, pole_latitude=37.5)\n",
    "ax = plt.axes(projection=projct)\n",
    "ax.set_global()\n",
    "ax.coastlines()\n",
    "ax.contourf(lon, lat, data)\n",
    "\n",
    "```"
   ]
  },
  {
   "cell_type": "code",
   "execution_count": null,
   "metadata": {},
   "outputs": [],
   "source": []
  },
  {
   "cell_type": "markdown",
   "metadata": {},
   "source": [
    "To make this work, we need to make sure to give the `transform=` argument in `contourf`. In particular we need to tell contourf that the data is in the standard `PlateCarree` projection. This is almost always going to be the original data projection (as far as I know, unless you know for sure otherwise). It's generally a good bet to pass the `transform=ccrs.PlateCarree()` in whatever matplotlib plotting function you are using in a map. \n",
    "\n",
    "```python\n",
    "projection = ccrs.RotatedPole(pole_longitude=-177.5, pole_latitude=37.5)\n",
    "ax = plt.axes(projection=projection)\n",
    "ax.set_global()\n",
    "ax.coastlines()\n",
    "ax.contourf(lon, lat, data, ___=ccrs.PlateCarree())\n",
    "```\n"
   ]
  },
  {
   "cell_type": "code",
   "execution_count": null,
   "metadata": {},
   "outputs": [],
   "source": []
  },
  {
   "cell_type": "markdown",
   "metadata": {},
   "source": [
    "# Showing images\n",
    "\n",
    "We can plot a satellite image easily on a map if we know its lat/lon extent. There are lots more ways to plot satellite data we can dig into if you want"
   ]
  },
  {
   "cell_type": "markdown",
   "metadata": {},
   "source": [
    "# make a figure with the Satellite data\n",
    "\n",
    "We are going to use a matplotlib function called `imshow()`. What do we need to add to it?\n",
    "\n",
    "```python\n",
    "\n",
    "fig = plt.figure(figsize=(8, 10))\n",
    "\n",
    "# load image & load coordinates of the corners\n",
    "fname = '../data/Miriam.A2012270.2050.2km.jpg'\n",
    "img_extent = (-120.67660000000001, -106.32104523100001, 13.2301484511245, 30.766899999999502)\n",
    "img = plt.imread(fname)\n",
    "\n",
    "# define projection for axes\n",
    "_______________________\n",
    "\n",
    "# add the image. Because this image was a tif, the \"origin\" of the image is in the\n",
    "# upper left corner\n",
    "ax.imshow(____, origin='upper', extent=_____, transform=_______)\n",
    "ax.coastlines(resolution='50m', color='black', linewidth=1)\n",
    "\n",
    "# mark a known place to help us geo-locate ourselves\n",
    "ax.plot(-117.1625, 32.715, 'bo', markersize=7)\n",
    "ax.text(-117, 33, 'San Diego')\n",
    "\n",
    "# set map extent to larger area\n",
    "___________________\n",
    "\n",
    "\n",
    "```"
   ]
  },
  {
   "cell_type": "code",
   "execution_count": null,
   "metadata": {},
   "outputs": [],
   "source": []
  },
  {
   "cell_type": "code",
   "execution_count": null,
   "metadata": {},
   "outputs": [],
   "source": []
  },
  {
   "cell_type": "markdown",
   "metadata": {},
   "source": [
    "# Xarray Integration\n",
    "\n",
    "Cartopy transforms can be passed to xarray! \n",
    "\n",
    "This creates a very quick path for creating professional looking maps from netCDF data.\n",
    "\n",
    "Remember we've looked at this SST dataset before in the xarray class. We know xarray can make nice default plots, but now we can pass the `transform=` argument and get proper maps!"
   ]
  },
  {
   "cell_type": "code",
   "execution_count": null,
   "metadata": {},
   "outputs": [],
   "source": []
  },
  {
   "cell_type": "markdown",
   "metadata": {},
   "source": [
    "# load in our SST dataset\n",
    "\n",
    "```python\n",
    "\n",
    "url = 'http://www.esrl.noaa.gov/psd/thredds/dodsC/Datasets/noaa.ersst.v5/sst.mnmean.nc'\n",
    "\n",
    "ds = xr.___(url, _____)\n",
    "```\n"
   ]
  },
  {
   "cell_type": "code",
   "execution_count": null,
   "metadata": {},
   "outputs": [],
   "source": []
  },
  {
   "cell_type": "markdown",
   "metadata": {},
   "source": [
    "# make a map of SST \n",
    "\n",
    "Pick a particular day and create a dataset for it:"
   ]
  },
  {
   "cell_type": "code",
   "execution_count": null,
   "metadata": {},
   "outputs": [],
   "source": []
  },
  {
   "cell_type": "markdown",
   "metadata": {},
   "source": [
    "then create a figure with Robinson projection, coastlines & gridlines:\n",
    "\n",
    "```python\n",
    "fig = plt.figure(figsize=(9,6))\n",
    "ax = plt.axes(____=ccrs.Robinson())\n",
    "ax.coastlines()\n",
    "ax.gridlines()\n",
    "```\n",
    "and plot our xarray dataset using the built in xarray plotting, plus that new special thing we need to do for maps:\n",
    "\n",
    "```python\n",
    "sst.___(ax=ax, ___=ccrs.PlateCarree(), vmin=2, vmax=30, cbar_kwargs={'shrink': 0.4})\n",
    "```"
   ]
  },
  {
   "cell_type": "code",
   "execution_count": null,
   "metadata": {},
   "outputs": [],
   "source": []
  },
  {
   "cell_type": "markdown",
   "metadata": {},
   "source": [
    "# Excercise 02 \n"
   ]
  },
  {
   "cell_type": "code",
   "execution_count": null,
   "metadata": {
    "jupyter": {
     "source_hidden": true
    }
   },
   "outputs": [],
   "source": []
  },
  {
   "cell_type": "markdown",
   "metadata": {},
   "source": [
    "# Excercise 02\n",
    "\n",
    "## 1. Southern Ocean\n",
    "\n",
    "Remake the map we just made but instead focus on the Southern Ocean.\n",
    "\n",
    "Change the map projection to `ccrs.Orthographic(__,__)` and make plot so that the South Pole is in the center of the map."
   ]
  },
  {
   "cell_type": "code",
   "execution_count": null,
   "metadata": {
    "tags": []
   },
   "outputs": [],
   "source": [
    "import xarray as xr\n",
    "import cartopy.crs as ccrs\n",
    "import matplotlib.pyplot as plt\n",
    "\n",
    "%matplotlib inline"
   ]
  },
  {
   "cell_type": "code",
   "execution_count": null,
   "metadata": {},
   "outputs": [],
   "source": [
    "url = 'http://www.esrl.noaa.gov/psd/thredds/dodsC/Datasets/noaa.ersst.v5/sst.mnmean.nc'\n",
    "ds = xr.open_dataset(url, drop_variables=['time_bnds'])\n",
    "\n",
    "sst = ds.sst.sel(time='2000-01-01', method='nearest')"
   ]
  },
  {
   "cell_type": "code",
   "execution_count": null,
   "metadata": {},
   "outputs": [],
   "source": [
    "# make figure\n",
    "\n",
    "\n"
   ]
  },
  {
   "cell_type": "markdown",
   "metadata": {},
   "source": [
    "## 2. Chlorophyll off MAB\n",
    "\n",
    "Remake the map of chlorophyll that we looked at before using Mercator projection. Make sure to plot the log of chlorophyll as ```np.log10(___)``` and this means we need to load numpy, too.\n",
    "\n"
   ]
  },
  {
   "cell_type": "code",
   "execution_count": null,
   "metadata": {},
   "outputs": [],
   "source": [
    "import numpy as np\n",
    "\n",
    "url = 'https://oceandata.sci.gsfc.nasa.gov:443/opendap/MODISA/L3SMI/2019/210/A2019210.L3m_DAY_CHL_chlor_a_4km.nc'\n",
    "data = xr.open_dataset(url)\n",
    "\n",
    "data_mab_nj = data.sel( lat=slice(41, 38), lon=slice(-76,-71))"
   ]
  },
  {
   "cell_type": "code",
   "execution_count": null,
   "metadata": {},
   "outputs": [],
   "source": [
    "# make figure\n",
    "\n"
   ]
  },
  {
   "cell_type": "markdown",
   "metadata": {},
   "source": [
    "# Bathymetry\n",
    "\n",
    "We've just seen that xarray can 'play nice' with cartopy. Guess what format most bathymetry files are given in? Netcdf. That is nice, so we know how to make maps with bathmetry already\n",
    "\n",
    "ETOPO:\n",
    "\n",
    "Etopo is a global dataset with both ocean depth and land elevations. It comes in two different resolutions, and is generally a workhorse for ocean bathymetry maps. If you are working in a special region you may need to find you own special bathymetry data, which someone you work with probably has. \n",
    "\n",
    "\n",
    "\n",
    "2 minute data:\n",
    "https://www.ngdc.noaa.gov/mgg/global/etopo2.html\n",
    "\n",
    "download it for yourself: https://www.ngdc.noaa.gov/mgg/global/relief/ETOPO2/ETOPO2v2-2006/ETOPO2v2c/netCDF/ETOPO2v2c_f4_netCDF.zip\n",
    "\n",
    "1 minute data:\n",
    "https://www.ngdc.noaa.gov/mgg/global/global.html\n",
    "\n",
    "\n",
    "\n",
    "fname = https://gamone.whoi.edu/thredds/dodsC/usgs/data0/bathy/ETOPO2v2c_f4.nc.html"
   ]
  },
  {
   "cell_type": "code",
   "execution_count": null,
   "metadata": {},
   "outputs": [],
   "source": []
  },
  {
   "cell_type": "markdown",
   "metadata": {},
   "source": [
    "# load the bathymetry data:\n",
    "\n",
    "you can do this using the weblink I found for someone at whoi, or you can just get the file onto your computer somewhere ( I recommend getting it yourself so you can use it anywhere). There's also a version in the data folder that we'll use.\n",
    "\n",
    "option1: load from website:\n",
    "\n",
    "``` \n",
    "fname = 'https://gamone.whoi.edu/thredds/dodsC/usgs/data0/bathy/ETOPO2v2c_f4.nc'\n",
    "ds_etpo = xr.open_dataset( fname)     \n",
    "ds_etpo    \n",
    "```\n",
    "option 2: load from local file:"
   ]
  },
  {
   "cell_type": "code",
   "execution_count": null,
   "metadata": {},
   "outputs": [],
   "source": []
  },
  {
   "cell_type": "markdown",
   "metadata": {},
   "source": [
    "# select a subset, a region of interest, and plot the bathymetry\n",
    "\n",
    "Lets make a simple plot of the Mid Atlantic Bight\n",
    "\n",
    "Because the global bathymetry dataset can be really huge, we want to make sure we take a subset before we try to plot:\n",
    "\n",
    "```python\n",
    "region = ds_etpo.sel(x=slice(-77, -70), y=slice(35, 43))\n",
    "```\n",
    "\n",
    "define the map (figure) projection: \n",
    "```python\n",
    "proj = ___.Mercator()\n",
    "```\n",
    "and the data projection for the transformation:\n",
    "```python\n",
    "data_crs = ___.PlateCarree()\n",
    "```\n",
    "\n",
    "set up your figure:\n",
    "```python\n",
    "fig = plt.figure(figsize=(9,6))\n",
    "\n",
    "ax = plt.axes(projection=___)\n",
    "\n",
    "___.coastlines(resolution='50m')\n",
    "\n",
    "ax.gridlines(draw_labels=True)\n",
    "```\n",
    "\n",
    "use xarray to make a simple plot\n",
    "```python\n",
    "region._.plot( ___ =data_crs )\n",
    "```\n",
    "\n"
   ]
  },
  {
   "cell_type": "code",
   "execution_count": null,
   "metadata": {},
   "outputs": [],
   "source": []
  },
  {
   "cell_type": "markdown",
   "metadata": {},
   "source": [
    "# change the plot to be the southern coast of greenland:\n",
    "\n",
    "```python\n",
    "region = ds_etpo.sel(x=slice(-48.75, -40), y=slice(59, 61.5))\n",
    "```\n",
    "\n",
    "make the same map:\n"
   ]
  },
  {
   "cell_type": "code",
   "execution_count": null,
   "metadata": {},
   "outputs": [],
   "source": []
  },
  {
   "cell_type": "markdown",
   "metadata": {},
   "source": [
    "# use matplotlib to make a map, not xarray default. \n",
    "\n",
    "Our bathymetry maps could use a little help. Lets make a map that has depth contours, which is the way we typically see maps. To do this we will use a standard matplotlib function called `plt.contourf()` that makes filled contours. We just need to give it the x, y, z data, and a list of contours we want to draw (i.e. isobaths). Then we need to pass it the `transform=` command since we are working with a cartopy map\n",
    "\n",
    "Define the map and data projections, get the same region of the etopo bathymetry and create the figure. \n",
    "\n",
    "Now through we are going to use matplotlib:\n",
    "\n",
    "```python\n",
    "# define the isobaths I want to plot:\n",
    "lvls = [-4000, -3000, -2500, -2000, -1500, -1000, -700, -400, -145, -10, 0]\n",
    "\n",
    "plt.contourf( ___.x, ___.y, ___.z, levels=lvls, ___=data_crs , cmap='Blues_r')\n",
    "\n",
    "```\n",
    "\n"
   ]
  },
  {
   "cell_type": "code",
   "execution_count": null,
   "metadata": {},
   "outputs": [],
   "source": []
  },
  {
   "cell_type": "markdown",
   "metadata": {},
   "source": [
    "# finally, plot some data on a map:\n",
    "\n",
    "Note that we are still just using matplotlib to plot things. The only extra thing we are doing is passing the `transform=` argument that tells the figure how to place our data onto a map. So we should just be able to make any normal plots we want and add data to the map. \n",
    "\n",
    "I've put a csv file in the data folder that has lat, lon, and average 0-500m helium observations from a cruise a few years ago. You can think of this like the meltwater content in the water column. Let's plot these data on the map. We will use pandas to read the csv file, then use `plt.scatter()` to plot them\n",
    "\n",
    "\n",
    "```python\n",
    "df = pd.read_csv('../data/OSNAP_helium.csv')\n",
    "df.head()\n",
    "```\n"
   ]
  },
  {
   "cell_type": "code",
   "execution_count": null,
   "metadata": {},
   "outputs": [],
   "source": []
  },
  {
   "cell_type": "markdown",
   "metadata": {},
   "source": [
    "now set up the same figure again, and fill in the blanks below to plot the meltwater data\n",
    "\n",
    "\n",
    "```python\n",
    "plt.scatter(___, ___,  c=___, ___=data_crs, cmap='plasma')\n",
    "ax.set_extent([-48.75, -40, 59, 61.5])\n",
    "```"
   ]
  },
  {
   "cell_type": "code",
   "execution_count": null,
   "metadata": {},
   "outputs": [],
   "source": []
  },
  {
   "cell_type": "markdown",
   "metadata": {},
   "source": [
    "# slightly nicer version\n",
    "\n",
    "Now you should have the tools to make a simple map of your data anywhere in the world. You can make these maps infinitly complex and nice looking, but by analogy with what we have done so far you should be able to get started. \n",
    "\n",
    "Just for fun the code below is almost like what we have done, but is more how I would make the map above for a paper or a talk, it's just a little bit nicer:\n",
    "\n"
   ]
  },
  {
   "cell_type": "code",
   "execution_count": null,
   "metadata": {},
   "outputs": [],
   "source": [
    "fig, ax = plt.subplots( figsize=(7, 7), subplot_kw=dict(projection=ccrs.Mercator()))\n",
    "\n",
    "ax.set_extent([-49.5, -40, 59, 61.5],crs=ccrs.PlateCarree())\n",
    "\n",
    "lvl = [-4000, -3000, -2500, -2000, -1500, -1000, -700, -400, -145, -15]\n",
    "\n",
    "feature = ax.add_feature(cfeature.NaturalEarthFeature('physical', 'land', '10m',edgecolor='face',facecolor='gray'), zorder=0)\n",
    "\n",
    "ax.contourf(region.x, region.y, region.z,levels=50,  cmap='Blues_r' ,  transform=ccrs.PlateCarree(), vmin=-4000, vmax=0, zorder=0)\n",
    "ax.contour(region.x, region.y, region.z, levels= lvl, colors='k', linestyles='solid', linewidths=.4,  transform=ccrs.PlateCarree())\n",
    "\n",
    "glb = ax.gridlines(draw_labels=True, alpha=0.5, linewidth=.5)\n",
    "glb.xlabels_top = glb.ylabels_left = False\n",
    "\n",
    "plt.scatter(df.lon, df.lat,  c=df.meanHE, transform=data_crs, cmap='plasma')\n",
    "\n",
    "# add an inset figure for context\n",
    "sub_ax = fig.add_axes([0.07, 0.28, 0.2, 0.2],\n",
    "                      projection=ccrs.NearsidePerspective(central_longitude=-45, central_latitude=70,satellite_height=10000000.0/20) )\n",
    "\n",
    "sub_ax.plot([-49.5, -49.5,  -40, -40, -49.5] , \n",
    "                        [ 59, 61.5, 61.5, 59, 59 ], color='tab:red',linewidth=1,  transform=ccrs.PlateCarree(), zorder=100 )\n",
    "sub_ax.set_global() \n",
    "LAND = cfeature.NaturalEarthFeature(\n",
    "    'physical', 'land', '50m',\n",
    "    edgecolor='face',\n",
    "    facecolor='black')\n",
    "sub_ax.add_feature(LAND, zorder=0)\n",
    "sub_ax.gridlines(linewidths=.5)"
   ]
  },
  {
   "cell_type": "code",
   "execution_count": null,
   "metadata": {},
   "outputs": [],
   "source": []
  }
 ],
 "metadata": {
  "kernelspec": {
   "display_name": "Python 3 (ipykernel)",
   "language": "python",
   "name": "python3"
  },
  "language_info": {
   "codemirror_mode": {
    "name": "ipython",
    "version": 3
   },
   "file_extension": ".py",
   "mimetype": "text/x-python",
   "name": "python",
   "nbconvert_exporter": "python",
   "pygments_lexer": "ipython3",
   "version": "3.11.0"
  }
 },
 "nbformat": 4,
 "nbformat_minor": 4
}
